{
 "cells": [
  {
   "cell_type": "code",
   "execution_count": 1,
   "id": "99ec0d95",
   "metadata": {},
   "outputs": [
    {
     "data": {
      "text/html": [
       "<div>\n",
       "<style scoped>\n",
       "    .dataframe tbody tr th:only-of-type {\n",
       "        vertical-align: middle;\n",
       "    }\n",
       "\n",
       "    .dataframe tbody tr th {\n",
       "        vertical-align: top;\n",
       "    }\n",
       "\n",
       "    .dataframe thead th {\n",
       "        text-align: right;\n",
       "    }\n",
       "</style>\n",
       "<table border=\"1\" class=\"dataframe\">\n",
       "  <thead>\n",
       "    <tr style=\"text-align: right;\">\n",
       "      <th></th>\n",
       "      <th>Model</th>\n",
       "      <th>Accuracy</th>\n",
       "      <th>Precision</th>\n",
       "      <th>Recall</th>\n",
       "      <th>F1 Score</th>\n",
       "    </tr>\n",
       "  </thead>\n",
       "  <tbody>\n",
       "    <tr>\n",
       "      <th>0</th>\n",
       "      <td>KNN</td>\n",
       "      <td>0.951309</td>\n",
       "      <td>0.948052</td>\n",
       "      <td>0.957092</td>\n",
       "      <td>0.952550</td>\n",
       "    </tr>\n",
       "    <tr>\n",
       "      <th>1</th>\n",
       "      <td>SVM</td>\n",
       "      <td>0.789714</td>\n",
       "      <td>0.730931</td>\n",
       "      <td>0.930870</td>\n",
       "      <td>0.818873</td>\n",
       "    </tr>\n",
       "    <tr>\n",
       "      <th>2</th>\n",
       "      <td>Logistic Regression</td>\n",
       "      <td>0.811321</td>\n",
       "      <td>0.826543</td>\n",
       "      <td>0.797974</td>\n",
       "      <td>0.812007</td>\n",
       "    </tr>\n",
       "    <tr>\n",
       "      <th>3</th>\n",
       "      <td>KNN</td>\n",
       "      <td>0.987219</td>\n",
       "      <td>0.981176</td>\n",
       "      <td>0.994041</td>\n",
       "      <td>0.987567</td>\n",
       "    </tr>\n",
       "  </tbody>\n",
       "</table>\n",
       "</div>"
      ],
      "text/plain": [
       "                 Model  Accuracy  Precision    Recall  F1 Score\n",
       "0                  KNN  0.951309   0.948052  0.957092  0.952550\n",
       "1                  SVM  0.789714   0.730931  0.930870  0.818873\n",
       "2  Logistic Regression  0.811321   0.826543  0.797974  0.812007\n",
       "3                  KNN  0.987219   0.981176  0.994041  0.987567"
      ]
     },
     "execution_count": 1,
     "metadata": {},
     "output_type": "execute_result"
    }
   ],
   "source": [
    "import pandas as pd\n",
    "\n",
    "# Importez les trois datasets depuis leurs fichiers CSV respectifs\n",
    "data1 = pd.read_csv('knn_results.csv')\n",
    "data2 = pd.read_csv('svm_results.csv')\n",
    "data3 = pd.read_csv('lr_results.csv')\n",
    "data4 = pd.read_csv('randfor_results.csv')\n",
    "\n",
    "# Concaténez les trois DataFrames en un seul\n",
    "all_data = pd.concat([data1, data2, data3, data4], ignore_index=True)\n",
    "\n",
    "# Affichez le DataFrame résultant\n",
    "all_data.head()\n",
    "\n"
   ]
  },
  {
   "cell_type": "code",
   "execution_count": null,
   "id": "66ae25ae",
   "metadata": {},
   "outputs": [],
   "source": []
  }
 ],
 "metadata": {
  "kernelspec": {
   "display_name": "Python 3 (ipykernel)",
   "language": "python",
   "name": "python3"
  },
  "language_info": {
   "codemirror_mode": {
    "name": "ipython",
    "version": 3
   },
   "file_extension": ".py",
   "mimetype": "text/x-python",
   "name": "python",
   "nbconvert_exporter": "python",
   "pygments_lexer": "ipython3",
   "version": "3.10.9"
  }
 },
 "nbformat": 4,
 "nbformat_minor": 5
}
