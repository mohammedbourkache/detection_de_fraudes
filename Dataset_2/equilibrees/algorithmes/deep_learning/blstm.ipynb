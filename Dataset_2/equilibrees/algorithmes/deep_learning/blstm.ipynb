{
 "cells": [
  {
   "cell_type": "markdown",
   "id": "a9ca32ac",
   "metadata": {},
   "source": [
    "# BLSTM (Bidirectional Long Short-Term Memory) :"
   ]
  },
  {
   "cell_type": "code",
   "execution_count": 1,
   "id": "d4c123f6",
   "metadata": {},
   "outputs": [
    {
     "name": "stdout",
     "output_type": "stream",
     "text": [
      "Epoch 1/10\n",
      "23226/23226 [==============================] - 598s 25ms/step - loss: 0.3639 - accuracy: 0.8297 - val_loss: 0.2935 - val_accuracy: 0.8691\n",
      "Epoch 2/10\n",
      "23226/23226 [==============================] - 620s 27ms/step - loss: 0.2872 - accuracy: 0.8716 - val_loss: 0.2722 - val_accuracy: 0.8777\n",
      "Epoch 3/10\n",
      "23226/23226 [==============================] - 625s 27ms/step - loss: 0.2795 - accuracy: 0.8755 - val_loss: 0.2718 - val_accuracy: 0.8794\n",
      "Epoch 4/10\n",
      "23226/23226 [==============================] - 522s 22ms/step - loss: 0.2746 - accuracy: 0.8779 - val_loss: 0.2651 - val_accuracy: 0.8810\n",
      "Epoch 5/10\n",
      "23226/23226 [==============================] - 490s 21ms/step - loss: 0.2703 - accuracy: 0.8795 - val_loss: 0.2722 - val_accuracy: 0.8773\n",
      "Epoch 6/10\n",
      "23226/23226 [==============================] - 598s 26ms/step - loss: 0.2689 - accuracy: 0.8806 - val_loss: 0.2624 - val_accuracy: 0.8841\n",
      "Epoch 7/10\n",
      "23226/23226 [==============================] - 611s 26ms/step - loss: 0.2668 - accuracy: 0.8814 - val_loss: 0.2638 - val_accuracy: 0.8819\n",
      "Epoch 8/10\n",
      "23226/23226 [==============================] - 617s 27ms/step - loss: 0.2647 - accuracy: 0.8821 - val_loss: 0.2597 - val_accuracy: 0.8842\n",
      "Epoch 9/10\n",
      "23226/23226 [==============================] - 460s 20ms/step - loss: 0.2644 - accuracy: 0.8822 - val_loss: 0.2570 - val_accuracy: 0.8849\n",
      "Epoch 10/10\n",
      "23226/23226 [==============================] - 450s 19ms/step - loss: 0.2624 - accuracy: 0.8830 - val_loss: 0.2561 - val_accuracy: 0.8855\n",
      "7742/7742 [==============================] - 51s 6ms/step\n",
      "Accuracy: 0.8864817954306935\n",
      "Precision: 0.9056164163044675\n",
      "Recall: 0.8628987987600103\n",
      "F1 Score: 0.8837416959830675\n",
      "auc-Score: 0.89\n"
     ]
    }
   ],
   "source": [
    "import numpy as np\n",
    "import pandas as pd\n",
    "import tensorflow as tf\n",
    "from sklearn.model_selection import train_test_split\n",
    "from sklearn.metrics import accuracy_score, precision_score, recall_score, f1_score\n",
    "from tensorflow.keras import layers, models\n",
    "from sklearn.metrics import roc_auc_score\n",
    "\n",
    "# Chargement du dataset\n",
    "df = pd.read_csv('../dataset_smote.csv')\n",
    "\n",
    "# Séparation des features (X) et de la variable cible (y)\n",
    "X = df.drop('isFraud', axis=1)\n",
    "y = df['isFraud']\n",
    "\n",
    "# Division des données en ensembles d'entraînement, de validation et de test\n",
    "X_train, X_temp, y_train, y_temp = train_test_split(X, y, test_size=0.4, random_state=42)\n",
    "X_validation, X_test, y_validation, y_test = train_test_split(X_temp, y_temp, test_size=0.5, random_state=42)\n",
    "\n",
    "# Remodelage des données pour une entrée BLSTM\n",
    "X_train = X_train.values.reshape(-1, X_train.shape[1], 1)  # Remarquez le remodelage ici\n",
    "X_validation = X_validation.values.reshape(-1, X_validation.shape[1], 1)\n",
    "X_test = X_test.values.reshape(-1, X_test.shape[1], 1)\n",
    "\n",
    "# Créez le modèle BLSTM\n",
    "model = models.Sequential()\n",
    "\n",
    "# Couche BLSTM\n",
    "model.add(layers.Bidirectional(layers.LSTM(64, return_sequences=True), input_shape=(X_train.shape[1], 1)))\n",
    "model.add(layers.Bidirectional(layers.LSTM(32)))\n",
    "\n",
    "# Couche fully connected (densément connectée)\n",
    "model.add(layers.Dense(128, activation='relu'))\n",
    "\n",
    "# Couche de sortie\n",
    "model.add(layers.Dense(1, activation='sigmoid'))  # Une seule sortie binaire (fraude ou non)\n",
    "\n",
    "# Compilation du modèle\n",
    "model.compile(optimizer='adam',\n",
    "              loss='binary_crossentropy',  # Binary cross-entropy pour une classification binaire\n",
    "              metrics=['accuracy'])\n",
    "\n",
    "# Entraînez le modèle\n",
    "history = model.fit(X_train, y_train, epochs=10, validation_data=(X_validation, y_validation))\n",
    "\n",
    "# Prédictions sur l'ensemble de test\n",
    "y_pred = model.predict(X_test)\n",
    "y_pred = (y_pred > 0.5)  # Seuil de décision pour les prédictions binaires\n",
    "\n",
    "# Calcul des métriques\n",
    "accuracy = accuracy_score(y_test, y_pred)\n",
    "precision = precision_score(y_test, y_pred)\n",
    "recall = recall_score(y_test, y_pred)\n",
    "f1 = f1_score(y_test, y_pred)\n",
    "auc = roc_auc_score(y_test, y_pred)\n",
    "\n",
    "print(f\"Accuracy: {accuracy}\")\n",
    "print(f\"Precision: {precision}\")\n",
    "print(f\"Recall: {recall}\")\n",
    "print(f\"F1 Score: {f1}\")\n",
    "print(f\"auc-Score: {auc:.2f}\")\n"
   ]
  },
  {
   "cell_type": "code",
   "execution_count": 2,
   "id": "f9493f30",
   "metadata": {},
   "outputs": [
    {
     "data": {
      "text/html": [
       "<div>\n",
       "<style scoped>\n",
       "    .dataframe tbody tr th:only-of-type {\n",
       "        vertical-align: middle;\n",
       "    }\n",
       "\n",
       "    .dataframe tbody tr th {\n",
       "        vertical-align: top;\n",
       "    }\n",
       "\n",
       "    .dataframe thead th {\n",
       "        text-align: right;\n",
       "    }\n",
       "</style>\n",
       "<table border=\"1\" class=\"dataframe\">\n",
       "  <thead>\n",
       "    <tr style=\"text-align: right;\">\n",
       "      <th></th>\n",
       "      <th>Model</th>\n",
       "      <th>Accuracy</th>\n",
       "      <th>Precision</th>\n",
       "      <th>Recall</th>\n",
       "      <th>F1 Score</th>\n",
       "      <th>AUC</th>\n",
       "    </tr>\n",
       "  </thead>\n",
       "  <tbody>\n",
       "    <tr>\n",
       "      <th>0</th>\n",
       "      <td>BLSTM</td>\n",
       "      <td>0.886482</td>\n",
       "      <td>0.905616</td>\n",
       "      <td>0.862899</td>\n",
       "      <td>0.883742</td>\n",
       "      <td>0.886482</td>\n",
       "    </tr>\n",
       "  </tbody>\n",
       "</table>\n",
       "</div>"
      ],
      "text/plain": [
       "   Model  Accuracy  Precision    Recall  F1 Score       AUC\n",
       "0  BLSTM  0.886482   0.905616  0.862899  0.883742  0.886482"
      ]
     },
     "execution_count": 2,
     "metadata": {},
     "output_type": "execute_result"
    }
   ],
   "source": [
    "from sklearn.metrics import confusion_matrix\n",
    "import matplotlib.pyplot as plt\n",
    "import seaborn as sns\n",
    "\n",
    "\n",
    "# Calcul des métriques\n",
    "acc = accuracy_score(y_test, y_pred)\n",
    "prec = precision_score(y_test, y_pred)\n",
    "rec = recall_score(y_test, y_pred)\n",
    "f1 = f1_score(y_test, y_pred)\n",
    "auc = roc_auc_score(y_test, y_pred)\n",
    "\n",
    "\n",
    "blstm_results = pd.DataFrame([['BLSTM', acc, prec, rec, f1, auc]],\n",
    "               columns=['Model', 'Accuracy', 'Precision', 'Recall', 'F1 Score', 'AUC'])\n",
    "\n",
    "# Sauvegardez le DataFrame dans un fichier CSV\n",
    "blstm_results.to_csv('../evaluations/blstm_results.csv', index=False)\n",
    "\n",
    "blstm_results"
   ]
  },
  {
   "cell_type": "code",
   "execution_count": 3,
   "id": "623a4613",
   "metadata": {},
   "outputs": [
    {
     "data": {
      "image/png": "[encoded data removed]",
      "text/plain": [
       "<Figure size 800x600 with 1 Axes>"
      ]
     },
     "metadata": {},
     "output_type": "display_data"
    }
   ],
   "source": [
    "\n",
    "# Affichage de la matrice de confusion\n",
    "confusion = confusion_matrix(y_test, y_pred)\n",
    "plt.figure(figsize=(8, 6))\n",
    "sns.heatmap(confusion, annot=True, fmt='d', cmap='Blues', cbar=False)\n",
    "plt.xlabel('Predicted')\n",
    "plt.ylabel('Actual')\n",
    "plt.title('Confusion Matrix')\n",
    "plt.show()\n",
    "\n"
   ]
  },
  {
   "cell_type": "code",
   "execution_count": null,
   "id": "fb389fa6",
   "metadata": {},
   "outputs": [],
   "source": []
  }
 ],
 "metadata": {
  "kernelspec": {
   "display_name": "Python 3 (ipykernel)",
   "language": "python",
   "name": "python3"
  },
  "language_info": {
   "codemirror_mode": {
    "name": "ipython",
    "version": 3
   },
   "file_extension": ".py",
   "mimetype": "text/x-python",
   "name": "python",
   "nbconvert_exporter": "python",
   "pygments_lexer": "ipython3",
   "version": "3.10.9"
  }
 },
 "nbformat": 4,
 "nbformat_minor": 5
}
