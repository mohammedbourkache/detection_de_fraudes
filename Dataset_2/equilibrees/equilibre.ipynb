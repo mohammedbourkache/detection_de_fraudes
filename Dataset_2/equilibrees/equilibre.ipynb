{
 "cells": [
  {
   "cell_type": "markdown",
   "id": "07d5698a",
   "metadata": {},
   "source": [
    "# Sur-echantillonage : "
   ]
  },
  {
   "cell_type": "code",
   "execution_count": 1,
   "id": "abddae87",
   "metadata": {},
   "outputs": [],
   "source": [
    "import pandas as pd\n",
    "import numpy as np\n",
    "import matplotlib.pyplot as plt\n",
    "import seaborn as sns\n"
   ]
  },
  {
   "cell_type": "code",
   "execution_count": 2,
   "id": "66f6755b",
   "metadata": {},
   "outputs": [],
   "source": [
    "#Dataframe\n",
    "dataset =pd.read_csv('../trans_cleaned_df.csv')\n"
   ]
  },
  {
   "cell_type": "code",
   "execution_count": 3,
   "id": "8f727ace",
   "metadata": {},
   "outputs": [],
   "source": [
    "#faire une copie \n",
    "df = dataset.copy()"
   ]
  },
  {
   "cell_type": "markdown",
   "id": "2d46cabd",
   "metadata": {},
   "source": [
    "# smote"
   ]
  },
  {
   "cell_type": "code",
   "execution_count": 4,
   "id": "c7847929",
   "metadata": {},
   "outputs": [],
   "source": [
    "from sklearn.linear_model import SGDClassifier\n",
    "from sklearn.tree import DecisionTreeClassifier\n",
    "from sklearn.neighbors import KNeighborsClassifier\n",
    "from sklearn.ensemble import VotingClassifier\n",
    "from sklearn.model_selection import train_test_split\n",
    "\n",
    "\n",
    "from sklearn.model_selection import RandomizedSearchCV\n",
    "from sklearn.ensemble import RandomForestClassifier\n",
    "from sklearn.model_selection import KFold\n",
    "from sklearn.metrics import accuracy_score, precision_score, recall_score, roc_auc_score\n",
    "from sklearn.metrics import confusion_matrix"
   ]
  },
  {
   "cell_type": "code",
   "execution_count": 5,
   "id": "7e838e38",
   "metadata": {},
   "outputs": [],
   "source": [
    "X = df.drop(['isFraud'], axis = 1)\n",
    "y = df[['isFraud']]"
   ]
  },
  {
   "cell_type": "code",
   "execution_count": 6,
   "id": "31312007",
   "metadata": {},
   "outputs": [],
   "source": [
    "# Diviser l'ensemble d'entraînement en ensembles d'entraînement, de validation et de test\n",
    "\n",
    "X_train, X_test, y_train,  y_test = train_test_split(X, y, test_size=0.2, random_state=0)\n",
    "\n"
   ]
  },
  {
   "cell_type": "code",
   "execution_count": 7,
   "id": "66765c1d",
   "metadata": {},
   "outputs": [
    {
     "name": "stdout",
     "output_type": "stream",
     "text": [
      "isFraud\n",
      "0    619349\n",
      "1      8939\n",
      "Name: count, dtype: int64\n",
      "isFraud\n",
      "0    619349\n",
      "1    619349\n",
      "Name: count, dtype: int64\n"
     ]
    }
   ],
   "source": [
    "from imblearn.over_sampling import SMOTE\n",
    "\n",
    "# Using SMOTE to oversample the dataset\n",
    "\n",
    "sm = SMOTE(random_state=4)\n",
    "oversample = SMOTE()\n",
    "X_smote, y_smote = oversample.fit_resample(X, y)\n",
    "print(y.isFraud.value_counts())\n",
    "print(y_smote.isFraud.value_counts())\n"
   ]
  },
  {
   "cell_type": "code",
   "execution_count": 8,
   "id": "6453d069",
   "metadata": {},
   "outputs": [
    {
     "data": {
      "text/html": [
       "<div>\n",
       "<style scoped>\n",
       "    .dataframe tbody tr th:only-of-type {\n",
       "        vertical-align: middle;\n",
       "    }\n",
       "\n",
       "    .dataframe tbody tr th {\n",
       "        vertical-align: top;\n",
       "    }\n",
       "\n",
       "    .dataframe thead th {\n",
       "        text-align: right;\n",
       "    }\n",
       "</style>\n",
       "<table border=\"1\" class=\"dataframe\">\n",
       "  <thead>\n",
       "    <tr style=\"text-align: right;\">\n",
       "      <th></th>\n",
       "      <th>isFraud</th>\n",
       "    </tr>\n",
       "  </thead>\n",
       "  <tbody>\n",
       "    <tr>\n",
       "      <th>0</th>\n",
       "      <td>0</td>\n",
       "    </tr>\n",
       "    <tr>\n",
       "      <th>1</th>\n",
       "      <td>0</td>\n",
       "    </tr>\n",
       "    <tr>\n",
       "      <th>2</th>\n",
       "      <td>0</td>\n",
       "    </tr>\n",
       "    <tr>\n",
       "      <th>3</th>\n",
       "      <td>0</td>\n",
       "    </tr>\n",
       "    <tr>\n",
       "      <th>4</th>\n",
       "      <td>0</td>\n",
       "    </tr>\n",
       "  </tbody>\n",
       "</table>\n",
       "</div>"
      ],
      "text/plain": [
       "   isFraud\n",
       "0        0\n",
       "1        0\n",
       "2        0\n",
       "3        0\n",
       "4        0"
      ]
     },
     "execution_count": 8,
     "metadata": {},
     "output_type": "execute_result"
    }
   ],
   "source": [
    "y_smote.head()"
   ]
  },
  {
   "cell_type": "code",
   "execution_count": 9,
   "id": "b7e184a3",
   "metadata": {},
   "outputs": [
    {
     "data": {
      "image/png": "[encoded data removed]",
      "text/plain": [
       "<Figure size 640x480 with 1 Axes>"
      ]
     },
     "metadata": {},
     "output_type": "display_data"
    }
   ],
   "source": [
    "# Afficher la distribution équilibré de du nouvel ensemble de données en comembaire : \n",
    "\n",
    "plt.pie(y_smote.value_counts(),\n",
    "labels=['Transactions Frauduleuses', 'Transactions Normales'],\n",
    "autopct='%1.0f%%')\n",
    "        \n",
    "plt.title('Distribution des Classes Équilibré aprés sur_echantillonage')\n",
    "plt.show()"
   ]
  },
  {
   "cell_type": "code",
   "execution_count": 10,
   "id": "a75f0045",
   "metadata": {},
   "outputs": [
    {
     "name": "stdout",
     "output_type": "stream",
     "text": [
      "Le dataset SMOTE a été enregistré sous 'algorithmes/dataset_smote.csv'\n"
     ]
    }
   ],
   "source": [
    "\n",
    "# Créez un DataFrame pandas pour les données suréchantillonnées\n",
    "df_smote = pd.DataFrame(X_smote, columns=X.columns)\n",
    "df_smote['isFraud'] = y_smote\n",
    "\n",
    "# Spécifiez le chemin où vous souhaitez enregistrer le fichier CSV\n",
    "csv_path = 'algorithmes/dataset_smote.csv'\n",
    "\n",
    "# Enregistrez le DataFrame dans un fichier CSV\n",
    "df_smote.to_csv(csv_path, index=False)\n",
    "\n",
    "print(f\"Le dataset SMOTE a été enregistré sous '{csv_path}'\")\n"
   ]
  }
 ],
 "metadata": {
  "kernelspec": {
   "display_name": "Python 3 (ipykernel)",
   "language": "python",
   "name": "python3"
  },
  "language_info": {
   "codemirror_mode": {
    "name": "ipython",
    "version": 3
   },
   "file_extension": ".py",
   "mimetype": "text/x-python",
   "name": "python",
   "nbconvert_exporter": "python",
   "pygments_lexer": "ipython3",
   "version": "3.10.9"
  }
 },
 "nbformat": 4,
 "nbformat_minor": 5
}
