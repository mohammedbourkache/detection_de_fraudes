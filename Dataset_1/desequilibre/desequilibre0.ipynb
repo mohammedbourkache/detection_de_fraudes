{
 "cells": [
  {
   "cell_type": "markdown",
   "id": "7dbed1cb",
   "metadata": {},
   "source": [
    "<strong> lorsque vous avez un déséquilibre entre les classes (beaucoup plus de transactions normales que frauduleuses dans votre cas), il est recommandé de diviser les données de manière stratifiée, en veillant à ce que les proportions des classes soient maintenues dans les ensembles d'entraînement et de test. Cela évite que l'un des ensembles ait un déséquilibre beaucoup plus important que l'autre.\n",
    "</strong>\n"
   ]
  },
  {
   "cell_type": "code",
   "execution_count": 1,
   "id": "f1bce549",
   "metadata": {},
   "outputs": [],
   "source": [
    "import pandas as pd\n",
    "import numpy as np\n",
    "import matplotlib.pyplot as plt\n",
    "import seaborn as sns\n"
   ]
  },
  {
   "cell_type": "code",
   "execution_count": 2,
   "id": "eb3d1aa3",
   "metadata": {},
   "outputs": [],
   "source": [
    "#Dataframe\n",
    "dataset =pd.read_csv('non_equilibres_data.csv')\n"
   ]
  },
  {
   "cell_type": "code",
   "execution_count": 3,
   "id": "a8edb95c",
   "metadata": {},
   "outputs": [],
   "source": [
    "#faire une copie \n",
    "data = dataset.copy()"
   ]
  },
  {
   "cell_type": "code",
   "execution_count": 4,
   "id": "cc05c33a",
   "metadata": {
    "scrolled": true
   },
   "outputs": [
    {
     "data": {
      "text/html": [
       "<div>\n",
       "<style scoped>\n",
       "    .dataframe tbody tr th:only-of-type {\n",
       "        vertical-align: middle;\n",
       "    }\n",
       "\n",
       "    .dataframe tbody tr th {\n",
       "        vertical-align: top;\n",
       "    }\n",
       "\n",
       "    .dataframe thead th {\n",
       "        text-align: right;\n",
       "    }\n",
       "</style>\n",
       "<table border=\"1\" class=\"dataframe\">\n",
       "  <thead>\n",
       "    <tr style=\"text-align: right;\">\n",
       "      <th></th>\n",
       "      <th>type</th>\n",
       "      <th>amount</th>\n",
       "      <th>oldbalanceOrg</th>\n",
       "      <th>nameDest</th>\n",
       "      <th>oldbalanceDest</th>\n",
       "      <th>isFraud</th>\n",
       "      <th>isFlaggedFraud</th>\n",
       "    </tr>\n",
       "  </thead>\n",
       "  <tbody>\n",
       "    <tr>\n",
       "      <th>0</th>\n",
       "      <td>1</td>\n",
       "      <td>9839.64</td>\n",
       "      <td>170136.0</td>\n",
       "      <td>1</td>\n",
       "      <td>0.0</td>\n",
       "      <td>0</td>\n",
       "      <td>0</td>\n",
       "    </tr>\n",
       "    <tr>\n",
       "      <th>1</th>\n",
       "      <td>1</td>\n",
       "      <td>1864.28</td>\n",
       "      <td>21249.0</td>\n",
       "      <td>1</td>\n",
       "      <td>0.0</td>\n",
       "      <td>0</td>\n",
       "      <td>0</td>\n",
       "    </tr>\n",
       "    <tr>\n",
       "      <th>2</th>\n",
       "      <td>2</td>\n",
       "      <td>181.00</td>\n",
       "      <td>181.0</td>\n",
       "      <td>0</td>\n",
       "      <td>0.0</td>\n",
       "      <td>1</td>\n",
       "      <td>0</td>\n",
       "    </tr>\n",
       "    <tr>\n",
       "      <th>3</th>\n",
       "      <td>3</td>\n",
       "      <td>181.00</td>\n",
       "      <td>181.0</td>\n",
       "      <td>0</td>\n",
       "      <td>21182.0</td>\n",
       "      <td>1</td>\n",
       "      <td>0</td>\n",
       "    </tr>\n",
       "    <tr>\n",
       "      <th>4</th>\n",
       "      <td>1</td>\n",
       "      <td>11668.14</td>\n",
       "      <td>41554.0</td>\n",
       "      <td>1</td>\n",
       "      <td>0.0</td>\n",
       "      <td>0</td>\n",
       "      <td>0</td>\n",
       "    </tr>\n",
       "  </tbody>\n",
       "</table>\n",
       "</div>"
      ],
      "text/plain": [
       "   type    amount  oldbalanceOrg  nameDest  oldbalanceDest  isFraud  \\\n",
       "0     1   9839.64       170136.0         1             0.0        0   \n",
       "1     1   1864.28        21249.0         1             0.0        0   \n",
       "2     2    181.00          181.0         0             0.0        1   \n",
       "3     3    181.00          181.0         0         21182.0        1   \n",
       "4     1  11668.14        41554.0         1             0.0        0   \n",
       "\n",
       "   isFlaggedFraud  \n",
       "0               0  \n",
       "1               0  \n",
       "2               0  \n",
       "3               0  \n",
       "4               0  "
      ]
     },
     "execution_count": 4,
     "metadata": {},
     "output_type": "execute_result"
    }
   ],
   "source": [
    "data.head()"
   ]
  },
  {
   "cell_type": "code",
   "execution_count": 5,
   "id": "d076ebf3",
   "metadata": {},
   "outputs": [
    {
     "data": {
      "text/plain": [
       "Index(['type', 'amount', 'oldbalanceOrg', 'nameDest', 'oldbalanceDest',\n",
       "       'isFraud', 'isFlaggedFraud'],\n",
       "      dtype='object')"
      ]
     },
     "execution_count": 5,
     "metadata": {},
     "output_type": "execute_result"
    }
   ],
   "source": [
    "data.columns"
   ]
  },
  {
   "cell_type": "code",
   "execution_count": 6,
   "id": "e38d493f",
   "metadata": {},
   "outputs": [],
   "source": [
    "#echantillonage manuel"
   ]
  },
  {
   "cell_type": "code",
   "execution_count": 7,
   "id": "f48d88ab",
   "metadata": {},
   "outputs": [],
   "source": [
    "import pandas as pd\n",
    "\n",
    "# Sélectionner les lignes frauduleuses et normales\n",
    "fraudulent = data[data['isFraud'] == 1]\n",
    "normal = data[data['isFraud'] == 0]\n",
    "\n",
    "# Obtenir les valeurs uniques dans la colonne 'type'\n",
    "unique_types = normal['type'].unique()\n",
    "\n",
    "# Créer un DataFrame vide pour stocker l'échantillon\n",
    "sample_data = pd.DataFrame()\n",
    "\n",
    "# Effectuer l'échantillonnage pour chaque type\n",
    "for type_value in unique_types:\n",
    "    type_data = normal[normal['type'] == type_value]\n",
    "    sample_size = int(0.05 * len(type_data))  # Prendre 05% des données de chaque type\n",
    "    sample = type_data.sample(n=sample_size, random_state=42)\n",
    "    sample_data = pd.concat([sample_data, sample])\n",
    "\n",
    "# Combiner les données échantillonnées avec les données frauduleuses\n",
    "combined_data = pd.concat([fraudulent, sample_data])\n",
    "\n",
    "# Mélanger les données pour garantir un ordre aléatoire\n",
    "combined_data = combined_data.sample(frac=1, random_state=42)\n",
    "\n"
   ]
  },
  {
   "cell_type": "code",
   "execution_count": 8,
   "id": "3900c700",
   "metadata": {},
   "outputs": [],
   "source": [
    "# Sauvegarder le DataFrame combined_data dans un fichier CSV\n",
    "combined_data.to_csv('algorithmes/final_desequilibre.csv', index=False)\n"
   ]
  },
  {
   "cell_type": "code",
   "execution_count": null,
   "id": "3c53537c",
   "metadata": {},
   "outputs": [],
   "source": []
  }
 ],
 "metadata": {
  "kernelspec": {
   "display_name": "Python 3 (ipykernel)",
   "language": "python",
   "name": "python3"
  },
  "language_info": {
   "codemirror_mode": {
    "name": "ipython",
    "version": 3
   },
   "file_extension": ".py",
   "mimetype": "text/x-python",
   "name": "python",
   "nbconvert_exporter": "python",
   "pygments_lexer": "ipython3",
   "version": "3.10.9"
  }
 },
 "nbformat": 4,
 "nbformat_minor": 5
}
