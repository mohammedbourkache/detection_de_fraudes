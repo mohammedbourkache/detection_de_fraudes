{
 "cells": [
  {
   "cell_type": "markdown",
   "id": "29568af3",
   "metadata": {},
   "source": [
    "# DNN (Deep Neural Network) :"
   ]
  },
  {
   "cell_type": "code",
   "execution_count": 1,
   "id": "2c08190b",
   "metadata": {},
   "outputs": [
    {
     "name": "stdout",
     "output_type": "stream",
     "text": [
      "Epoch 1/10\n",
      "6112/6112 [==============================] - 37s 5ms/step - loss: 205.1790 - accuracy: 0.9361 - val_loss: 19.3800 - val_accuracy: 0.9202\n",
      "Epoch 2/10\n",
      "6112/6112 [==============================] - 31s 5ms/step - loss: 6.8720 - accuracy: 0.9608 - val_loss: 0.6464 - val_accuracy: 0.9851\n",
      "Epoch 3/10\n",
      "6112/6112 [==============================] - 34s 6ms/step - loss: 0.2089 - accuracy: 0.9780 - val_loss: 0.1182 - val_accuracy: 0.9751\n",
      "Epoch 4/10\n",
      "6112/6112 [==============================] - 35s 6ms/step - loss: 0.1237 - accuracy: 0.9749 - val_loss: 0.1167 - val_accuracy: 0.9751\n",
      "Epoch 5/10\n",
      "6112/6112 [==============================] - 36s 6ms/step - loss: 0.1934 - accuracy: 0.9748 - val_loss: 0.1167 - val_accuracy: 0.9751\n",
      "Epoch 6/10\n",
      "6112/6112 [==============================] - 33s 5ms/step - loss: 0.2079 - accuracy: 0.9748 - val_loss: 0.1167 - val_accuracy: 0.9751\n",
      "Epoch 7/10\n",
      "6112/6112 [==============================] - 35s 6ms/step - loss: 0.1207 - accuracy: 0.9748 - val_loss: 0.1167 - val_accuracy: 0.9751\n",
      "Epoch 8/10\n",
      "6112/6112 [==============================] - 35s 6ms/step - loss: 0.1539 - accuracy: 0.9748 - val_loss: 1.5701 - val_accuracy: 0.9751\n",
      "Epoch 9/10\n",
      "6112/6112 [==============================] - 33s 5ms/step - loss: 0.3767 - accuracy: 0.9749 - val_loss: 0.1167 - val_accuracy: 0.9751\n",
      "Epoch 10/10\n",
      "6112/6112 [==============================] - 36s 6ms/step - loss: 0.1174 - accuracy: 0.9749 - val_loss: 0.1167 - val_accuracy: 0.9751\n",
      "2038/2038 [==============================] - 8s 4ms/step\n",
      "Accuracy: 0.9744734379554205\n",
      "Precision: 1.0\n",
      "Recall: 0.0006006006006006006\n",
      "F1 Score: 0.0012004801920768309\n"
     ]
    }
   ],
   "source": [
    "import numpy as np\n",
    "import pandas as pd\n",
    "import tensorflow as tf\n",
    "from sklearn.model_selection import train_test_split\n",
    "from sklearn.metrics import accuracy_score, precision_score, recall_score, f1_score\n",
    "from tensorflow.keras import layers, models\n",
    "\n",
    "# Chargement du dataset\n",
    "df = pd.read_csv('../final_desequilibre.csv')\n",
    "\n",
    "# Séparation des features (X) et de la variable cible (y)\n",
    "X = df.drop('isFraud', axis=1)\n",
    "y = df['isFraud']\n",
    "\n",
    "# Division des données en ensembles d'entraînement, de validation et de test\n",
    "X_train, X_temp, y_train, y_temp = train_test_split(X, y, test_size=0.4, random_state=42)\n",
    "X_validation, X_test, y_validation, y_test = train_test_split(X_temp, y_temp, test_size=0.5, random_state=42)\n",
    "\n",
    "# Créez le modèle DNN\n",
    "model = models.Sequential()\n",
    "\n",
    "# Couches fully connected (densément connectées)\n",
    "model.add(layers.Dense(128, activation='relu', input_shape=(X_train.shape[1],)))\n",
    "model.add(layers.Dense(64, activation='relu'))\n",
    "model.add(layers.Dense(32, activation='relu'))\n",
    "\n",
    "# Couche de sortie\n",
    "model.add(layers.Dense(1, activation='sigmoid'))  # Une seule sortie binaire (fraude ou non)\n",
    "\n",
    "# Compilation du modèle\n",
    "model.compile(optimizer='adam',\n",
    "              loss='binary_crossentropy',  # Binary cross-entropy pour une classification binaire\n",
    "              metrics=['accuracy'])\n",
    "\n",
    "# Entraînez le modèle\n",
    "history = model.fit(X_train, y_train, epochs=10, validation_data=(X_validation, y_validation))\n",
    "\n",
    "# Prédictions sur l'ensemble de test\n",
    "y_pred = model.predict(X_test)\n",
    "y_pred = (y_pred > 0.5)  # Seuil de décision pour les prédictions binaires\n",
    "\n",
    "# Calcul des métriques\n",
    "accuracy = accuracy_score(y_test, y_pred)\n",
    "precision = precision_score(y_test, y_pred)\n",
    "recall = recall_score(y_test, y_pred)\n",
    "f1 = f1_score(y_test, y_pred)\n",
    "\n",
    "print(f\"Accuracy: {accuracy}\")\n",
    "print(f\"Precision: {precision}\")\n",
    "print(f\"Recall: {recall}\")\n",
    "print(f\"F1 Score: {f1}\")"
   ]
  },
  {
   "cell_type": "code",
   "execution_count": 2,
   "id": "4b61c31a",
   "metadata": {},
   "outputs": [
    {
     "data": {
      "text/html": [
       "<div>\n",
       "<style scoped>\n",
       "    .dataframe tbody tr th:only-of-type {\n",
       "        vertical-align: middle;\n",
       "    }\n",
       "\n",
       "    .dataframe tbody tr th {\n",
       "        vertical-align: top;\n",
       "    }\n",
       "\n",
       "    .dataframe thead th {\n",
       "        text-align: right;\n",
       "    }\n",
       "</style>\n",
       "<table border=\"1\" class=\"dataframe\">\n",
       "  <thead>\n",
       "    <tr style=\"text-align: right;\">\n",
       "      <th></th>\n",
       "      <th>Model</th>\n",
       "      <th>Accuracy</th>\n",
       "      <th>Precision</th>\n",
       "      <th>Recall</th>\n",
       "      <th>F1 Score</th>\n",
       "    </tr>\n",
       "  </thead>\n",
       "  <tbody>\n",
       "    <tr>\n",
       "      <th>0</th>\n",
       "      <td>Deep neurual network</td>\n",
       "      <td>0.974473</td>\n",
       "      <td>1.0</td>\n",
       "      <td>0.000601</td>\n",
       "      <td>0.0012</td>\n",
       "    </tr>\n",
       "  </tbody>\n",
       "</table>\n",
       "</div>"
      ],
      "text/plain": [
       "                  Model  Accuracy  Precision    Recall  F1 Score\n",
       "0  Deep neurual network  0.974473        1.0  0.000601    0.0012"
      ]
     },
     "execution_count": 2,
     "metadata": {},
     "output_type": "execute_result"
    }
   ],
   "source": [
    "\n",
    "# Calcul des métriques\n",
    "acc = accuracy_score(y_test, y_pred)\n",
    "prec = precision_score(y_test, y_pred)\n",
    "rec = recall_score(y_test, y_pred)\n",
    "f1 = f1_score(y_test, y_pred)\n",
    "\n",
    "\n",
    "dnn_results = pd.DataFrame([['Deep neurual network', acc,prec,rec, f1]],\n",
    "               columns = ['Model', 'Accuracy', 'Precision', 'Recall', 'F1 Score'])\n",
    "\n",
    "# Sauvegardez le DataFrame dans un fichier CSV\n",
    "dnn_results.to_csv('../evaluations/dnn_results.csv', index=False)\n",
    "\n",
    "dnn_results"
   ]
  },
  {
   "cell_type": "code",
   "execution_count": 3,
   "id": "2767dbc2",
   "metadata": {},
   "outputs": [
    {
     "data": {
      "image/png": "[encoded data removed]",
      "text/plain": [
       "<Figure size 800x600 with 1 Axes>"
      ]
     },
     "metadata": {},
     "output_type": "display_data"
    }
   ],
   "source": [
    "from sklearn.metrics import confusion_matrix\n",
    "import matplotlib.pyplot as plt\n",
    "import seaborn as sns\n",
    "# Affichage de la matrice de confusion\n",
    "confusion = confusion_matrix(y_test, y_pred)\n",
    "plt.figure(figsize=(8, 6))\n",
    "sns.heatmap(confusion, annot=True, fmt='d', cmap='Blues', cbar=False)\n",
    "plt.xlabel('Predicted')\n",
    "plt.ylabel('Actual')\n",
    "plt.title('Confusion Matrix')\n",
    "plt.show()"
   ]
  },
  {
   "cell_type": "code",
   "execution_count": null,
   "id": "e714bb05",
   "metadata": {},
   "outputs": [],
   "source": []
  }
 ],
 "metadata": {
  "kernelspec": {
   "display_name": "Python 3 (ipykernel)",
   "language": "python",
   "name": "python3"
  },
  "language_info": {
   "codemirror_mode": {
    "name": "ipython",
    "version": 3
   },
   "file_extension": ".py",
   "mimetype": "text/x-python",
   "name": "python",
   "nbconvert_exporter": "python",
   "pygments_lexer": "ipython3",
   "version": "3.10.9"
  }
 },
 "nbformat": 4,
 "nbformat_minor": 5
}
