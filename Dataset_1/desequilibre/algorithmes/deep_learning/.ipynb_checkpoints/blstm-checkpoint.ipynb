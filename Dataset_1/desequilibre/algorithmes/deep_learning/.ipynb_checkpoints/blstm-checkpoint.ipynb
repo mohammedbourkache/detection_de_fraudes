{
 "cells": [
  {
   "cell_type": "markdown",
   "id": "a9ca32ac",
   "metadata": {},
   "source": [
    "# BLSTM (Bidirectional Long Short-Term Memory) :"
   ]
  },
  {
   "cell_type": "code",
   "execution_count": 1,
   "id": "d4c123f6",
   "metadata": {},
   "outputs": [
    {
     "name": "stdout",
     "output_type": "stream",
     "text": [
      "Epoch 1/10\n",
      "6112/6112 [==============================] - 133s 18ms/step - loss: 0.0756 - accuracy: 0.9763 - val_loss: 0.0633 - val_accuracy: 0.9783\n",
      "Epoch 2/10\n",
      "6112/6112 [==============================] - 111s 18ms/step - loss: 0.0630 - accuracy: 0.9779 - val_loss: 0.0678 - val_accuracy: 0.9788\n",
      "Epoch 3/10\n",
      "6112/6112 [==============================] - 118s 19ms/step - loss: 0.0620 - accuracy: 0.9782 - val_loss: 0.0612 - val_accuracy: 0.9788\n",
      "Epoch 4/10\n",
      "6112/6112 [==============================] - 96s 16ms/step - loss: 0.0616 - accuracy: 0.9787 - val_loss: 0.0611 - val_accuracy: 0.9784\n",
      "Epoch 5/10\n",
      "6112/6112 [==============================] - 99s 16ms/step - loss: 0.0609 - accuracy: 0.9790 - val_loss: 0.0608 - val_accuracy: 0.9800\n",
      "Epoch 6/10\n",
      "6112/6112 [==============================] - 115s 19ms/step - loss: 0.0606 - accuracy: 0.9792 - val_loss: 0.0602 - val_accuracy: 0.9796\n",
      "Epoch 7/10\n",
      "6112/6112 [==============================] - 111s 18ms/step - loss: 0.0610 - accuracy: 0.9788 - val_loss: 0.0605 - val_accuracy: 0.9790\n",
      "Epoch 8/10\n",
      "6112/6112 [==============================] - 94s 15ms/step - loss: 0.0605 - accuracy: 0.9790 - val_loss: 0.0607 - val_accuracy: 0.9793\n",
      "Epoch 9/10\n",
      "6112/6112 [==============================] - 77s 13ms/step - loss: 0.0605 - accuracy: 0.9792 - val_loss: 0.0602 - val_accuracy: 0.9794\n",
      "Epoch 10/10\n",
      "6112/6112 [==============================] - 78s 13ms/step - loss: 0.0601 - accuracy: 0.9793 - val_loss: 0.0596 - val_accuracy: 0.9795\n",
      "2038/2038 [==============================] - 15s 6ms/step\n",
      "Accuracy: 0.9791983064107874\n",
      "Precision: 0.6194895591647331\n",
      "Recall: 0.4810810810810811\n",
      "F1 Score: 0.54158215010142\n"
     ]
    }
   ],
   "source": [
    "import numpy as np\n",
    "import pandas as pd\n",
    "import tensorflow as tf\n",
    "from sklearn.model_selection import train_test_split\n",
    "from sklearn.metrics import accuracy_score, precision_score, recall_score, f1_score\n",
    "from tensorflow.keras import layers, models\n",
    "\n",
    "# Chargement du dataset\n",
    "df = pd.read_csv('../final_desequilibre.csv')\n",
    "\n",
    "# Séparation des features (X) et de la variable cible (y)\n",
    "X = df.drop('isFraud', axis=1)\n",
    "y = df['isFraud']\n",
    "\n",
    "# Division des données en ensembles d'entraînement, de validation et de test\n",
    "X_train, X_temp, y_train, y_temp = train_test_split(X, y, test_size=0.4, random_state=42)\n",
    "X_validation, X_test, y_validation, y_test = train_test_split(X_temp, y_temp, test_size=0.5, random_state=42)\n",
    "\n",
    "# Remodelage des données pour une entrée BLSTM\n",
    "X_train = X_train.values.reshape(-1, X_train.shape[1], 1)  # Remarquez le remodelage ici\n",
    "X_validation = X_validation.values.reshape(-1, X_validation.shape[1], 1)\n",
    "X_test = X_test.values.reshape(-1, X_test.shape[1], 1)\n",
    "\n",
    "# Créez le modèle BLSTM\n",
    "model = models.Sequential()\n",
    "\n",
    "# Couche BLSTM\n",
    "model.add(layers.Bidirectional(layers.LSTM(64, return_sequences=True), input_shape=(X_train.shape[1], 1)))\n",
    "model.add(layers.Bidirectional(layers.LSTM(32)))\n",
    "\n",
    "# Couche fully connected (densément connectée)\n",
    "model.add(layers.Dense(128, activation='relu'))\n",
    "\n",
    "# Couche de sortie\n",
    "model.add(layers.Dense(1, activation='sigmoid'))  # Une seule sortie binaire (fraude ou non)\n",
    "\n",
    "# Compilation du modèle\n",
    "model.compile(optimizer='adam',\n",
    "              loss='binary_crossentropy',  # Binary cross-entropy pour une classification binaire\n",
    "              metrics=['accuracy'])\n",
    "\n",
    "# Entraînez le modèle\n",
    "history = model.fit(X_train, y_train, epochs=10, validation_data=(X_validation, y_validation))\n",
    "\n",
    "# Prédictions sur l'ensemble de test\n",
    "y_pred = model.predict(X_test)\n",
    "y_pred = (y_pred > 0.5)  # Seuil de décision pour les prédictions binaires\n",
    "\n",
    "# Calcul des métriques\n",
    "accuracy = accuracy_score(y_test, y_pred)\n",
    "precision = precision_score(y_test, y_pred)\n",
    "recall = recall_score(y_test, y_pred)\n",
    "f1 = f1_score(y_test, y_pred)\n",
    "\n",
    "print(f\"Accuracy: {accuracy}\")\n",
    "print(f\"Precision: {precision}\")\n",
    "print(f\"Recall: {recall}\")\n",
    "print(f\"F1 Score: {f1}\")\n"
   ]
  },
  {
   "cell_type": "code",
   "execution_count": 2,
   "id": "f9493f30",
   "metadata": {},
   "outputs": [
    {
     "data": {
      "text/html": [
       "<div>\n",
       "<style scoped>\n",
       "    .dataframe tbody tr th:only-of-type {\n",
       "        vertical-align: middle;\n",
       "    }\n",
       "\n",
       "    .dataframe tbody tr th {\n",
       "        vertical-align: top;\n",
       "    }\n",
       "\n",
       "    .dataframe thead th {\n",
       "        text-align: right;\n",
       "    }\n",
       "</style>\n",
       "<table border=\"1\" class=\"dataframe\">\n",
       "  <thead>\n",
       "    <tr style=\"text-align: right;\">\n",
       "      <th></th>\n",
       "      <th>Model</th>\n",
       "      <th>Accuracy</th>\n",
       "      <th>Precision</th>\n",
       "      <th>Recall</th>\n",
       "      <th>F1 Score</th>\n",
       "    </tr>\n",
       "  </thead>\n",
       "  <tbody>\n",
       "    <tr>\n",
       "      <th>0</th>\n",
       "      <td>BLSTM</td>\n",
       "      <td>0.979198</td>\n",
       "      <td>0.61949</td>\n",
       "      <td>0.481081</td>\n",
       "      <td>0.541582</td>\n",
       "    </tr>\n",
       "  </tbody>\n",
       "</table>\n",
       "</div>"
      ],
      "text/plain": [
       "   Model  Accuracy  Precision    Recall  F1 Score\n",
       "0  BLSTM  0.979198    0.61949  0.481081  0.541582"
      ]
     },
     "execution_count": 2,
     "metadata": {},
     "output_type": "execute_result"
    }
   ],
   "source": [
    "from sklearn.metrics import confusion_matrix\n",
    "import matplotlib.pyplot as plt\n",
    "import seaborn as sns\n",
    "\n",
    "\n",
    "# Calcul des métriques\n",
    "acc = accuracy_score(y_test, y_pred)\n",
    "prec = precision_score(y_test, y_pred)\n",
    "rec = recall_score(y_test, y_pred)\n",
    "f1 = f1_score(y_test, y_pred)\n",
    "\n",
    "\n",
    "blstm_results = pd.DataFrame([['BLSTM', acc,prec,rec, f1]],\n",
    "               columns = ['Model', 'Accuracy', 'Precision', 'Recall', 'F1 Score'])\n",
    "\n",
    "# Sauvegardez le DataFrame dans un fichier CSV\n",
    "blstm_results.to_csv('../evaluations/blstm_results.csv', index=False)\n",
    "\n",
    "blstm_results"
   ]
  },
  {
   "cell_type": "code",
   "execution_count": 3,
   "id": "623a4613",
   "metadata": {},
   "outputs": [
    {
     "data": {
      "image/png": "[encoded data removed]",
      "text/plain": [
       "<Figure size 800x600 with 1 Axes>"
      ]
     },
     "metadata": {},
     "output_type": "display_data"
    }
   ],
   "source": [
    "\n",
    "# Affichage de la matrice de confusion\n",
    "confusion = confusion_matrix(y_test, y_pred)\n",
    "plt.figure(figsize=(8, 6))\n",
    "sns.heatmap(confusion, annot=True, fmt='d', cmap='Blues', cbar=False)\n",
    "plt.xlabel('Predicted')\n",
    "plt.ylabel('Actual')\n",
    "plt.title('Confusion Matrix')\n",
    "plt.show()\n",
    "\n"
   ]
  },
  {
   "cell_type": "code",
   "execution_count": null,
   "id": "fb389fa6",
   "metadata": {},
   "outputs": [],
   "source": []
  }
 ],
 "metadata": {
  "kernelspec": {
   "display_name": "Python 3 (ipykernel)",
   "language": "python",
   "name": "python3"
  },
  "language_info": {
   "codemirror_mode": {
    "name": "ipython",
    "version": 3
   },
   "file_extension": ".py",
   "mimetype": "text/x-python",
   "name": "python",
   "nbconvert_exporter": "python",
   "pygments_lexer": "ipython3",
   "version": "3.10.9"
  }
 },
 "nbformat": 4,
 "nbformat_minor": 5
}
