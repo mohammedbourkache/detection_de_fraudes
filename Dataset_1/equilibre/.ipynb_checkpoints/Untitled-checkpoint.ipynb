{
 "cells": [
  {
   "cell_type": "code",
   "execution_count": null,
   "id": "003fba8c",
   "metadata": {},
   "outputs": [],
   "source": [
    "# normalisation avec robustscaler"
   ]
  },
  {
   "cell_type": "code",
   "execution_count": null,
   "id": "c7b7343a",
   "metadata": {},
   "outputs": [],
   "source": [
    "import pandas as pd\n",
    "import numpy as np\n",
    "import matplotlib.pyplot as plt\n",
    "import seaborn as sns\n"
   ]
  },
  {
   "cell_type": "markdown",
   "id": "e51c0ebe",
   "metadata": {},
   "source": [
    "<strong>avant de commencer , on a fait une concaténation de deux classes 'tr_fraudes' et 'tr_normales' , le résultat de la concaténation était 'cleaned_data.csv' , ce dataset commence avec toutes les transactions normales (étiquetées avec 0) jusqu'au milieu, suivi de toutes les transactions frauduleuses (étiquetées avec 1) à partir du milieu jusqu'à la fin .\n",
    "</strong>\n",
    "\n",
    "<strong>\n",
    "dans ce cas ,  on doit mélanger les données de manière aléatoire avant de diviser en ensembles d'entraînement et de test. </strong>\n",
    "\n",
    "<strong>\n",
    "Cela garantit que les ensembles de données contiennent un mélange représentatif des deux classes et évite que le modèle ne se base uniquement sur l'ordre des transactions pour prendre des décisions.\n",
    "</strong>"
   ]
  },
  {
   "cell_type": "code",
   "execution_count": null,
   "id": "40e09530",
   "metadata": {},
   "outputs": [],
   "source": [
    "#Dataframe\n",
    "dataset =pd.read_csv('cleaned_data.csv')\n"
   ]
  },
  {
   "cell_type": "code",
   "execution_count": null,
   "id": "d38cce47",
   "metadata": {},
   "outputs": [],
   "source": [
    "# d'abord nous voulons mélanger le dataset en fonction de la colonne 'isFraud' utilisant sort_values()\n",
    "# La méthode sort_values() est une fonctionnalité existe sur Pandas.\n",
    "# Elle est utilisée pour trier un DataFrame ou une série en fonction des valeurs d'une ou plusieurs colonnes."
   ]
  },
  {
   "cell_type": "code",
   "execution_count": null,
   "id": "639ed495",
   "metadata": {},
   "outputs": [],
   "source": [
    "data.head()"
   ]
  },
  {
   "cell_type": "code",
   "execution_count": null,
   "id": "031f1122",
   "metadata": {},
   "outputs": [],
   "source": []
  },
  {
   "cell_type": "code",
   "execution_count": null,
   "id": "a58f4f26",
   "metadata": {},
   "outputs": [],
   "source": [
    "from sklearn.preprocessing import RobustScaler\n",
    "\n",
    "# Sélectionner les colonnes à normaliser\n",
    "cols_a_normaliser = ['amount', 'oldbalanceOrg', 'oldbalanceDest']\n",
    "\n",
    "# Initialiser le RobustScaler\n",
    "scaler = RobustScaler()\n",
    "\n",
    "# Appliquer fit_transform seulement aux colonnes sélectionnées\n",
    "data[cols_a_normaliser] = scaler.fit_transform(data[cols_a_normaliser])\n"
   ]
  },
  {
   "cell_type": "code",
   "execution_count": null,
   "id": "a8a31cae",
   "metadata": {},
   "outputs": [],
   "source": []
  }
 ],
 "metadata": {
  "kernelspec": {
   "display_name": "Python 3 (ipykernel)",
   "language": "python",
   "name": "python3"
  },
  "language_info": {
   "codemirror_mode": {
    "name": "ipython",
    "version": 3
   },
   "file_extension": ".py",
   "mimetype": "text/x-python",
   "name": "python",
   "nbconvert_exporter": "python",
   "pygments_lexer": "ipython3",
   "version": "3.10.9"
  }
 },
 "nbformat": 4,
 "nbformat_minor": 5
}
