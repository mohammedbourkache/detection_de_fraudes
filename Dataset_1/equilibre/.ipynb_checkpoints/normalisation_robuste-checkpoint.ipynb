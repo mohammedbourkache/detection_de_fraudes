{
 "cells": [
  {
   "cell_type": "code",
   "execution_count": 1,
   "id": "003fba8c",
   "metadata": {},
   "outputs": [],
   "source": [
    "# normalisation avec robustscaler"
   ]
  },
  {
   "cell_type": "markdown",
   "id": "4fe56292",
   "metadata": {},
   "source": [
    "# Normalisation RobusteScaler :\n",
    "__________________________________________________________\n",
    "\n",
    "\n",
    "<img src='../imgs/robusteSclaer.PNG' style ='width:500px;heigth:400px' >  \n",
    "\n",
    "__________________________________________________________\n"
   ]
  },
  {
   "cell_type": "code",
   "execution_count": 2,
   "id": "c7b7343a",
   "metadata": {},
   "outputs": [],
   "source": [
    "import pandas as pd\n",
    "import numpy as np\n",
    "import matplotlib.pyplot as plt\n"
   ]
  },
  {
   "cell_type": "markdown",
   "id": "e51c0ebe",
   "metadata": {},
   "source": [
    "<strong>avant de commencer , on a fait une concaténation de deux classes 'tr_fraudes' et 'tr_normales' , le résultat de la concaténation était 'cleaned_data.csv' , ce dataset commence avec toutes les transactions normales (étiquetées avec 0) jusqu'au milieu, suivi de toutes les transactions frauduleuses (étiquetées avec 1) à partir du milieu jusqu'à la fin .\n",
    "</strong>\n",
    "\n",
    "<strong>\n",
    "dans ce cas ,  on doit mélanger les données de manière aléatoire avant de diviser en ensembles d'entraînement et de test. </strong>\n",
    "\n",
    "<strong>\n",
    "Cela garantit que les ensembles de données contiennent un mélange représentatif des deux classes et évite que le modèle ne se base uniquement sur l'ordre des transactions pour prendre des décisions.\n",
    "</strong>"
   ]
  },
  {
   "cell_type": "code",
   "execution_count": 3,
   "id": "40e09530",
   "metadata": {},
   "outputs": [],
   "source": [
    "#Dataframe\n",
    "dataset =pd.read_csv('cleaned_data.csv')\n"
   ]
  },
  {
   "cell_type": "code",
   "execution_count": 4,
   "id": "d38cce47",
   "metadata": {},
   "outputs": [],
   "source": [
    "# d'abord nous voulons mélanger le dataset en fonction de la colonne 'isFraud' utilisant sort_values()\n",
    "# La méthode sort_values() est une fonctionnalité existe sur Pandas.\n",
    "# Elle est utilisée pour trier un DataFrame ou une série en fonction des valeurs d'une ou plusieurs colonnes."
   ]
  },
  {
   "cell_type": "code",
   "execution_count": 5,
   "id": "7ae12e4e",
   "metadata": {},
   "outputs": [],
   "source": [
    "data_melang = dataset.sort_values(by='isFraud').sample(frac=1, random_state=5)"
   ]
  },
  {
   "cell_type": "code",
   "execution_count": 6,
   "id": "86ec4966",
   "metadata": {},
   "outputs": [],
   "source": [
    "#faire une copie \n",
    "data = data_melang.copy()"
   ]
  },
  {
   "cell_type": "code",
   "execution_count": 7,
   "id": "639ed495",
   "metadata": {},
   "outputs": [
    {
     "data": {
      "text/html": [
       "<div>\n",
       "<style scoped>\n",
       "    .dataframe tbody tr th:only-of-type {\n",
       "        vertical-align: middle;\n",
       "    }\n",
       "\n",
       "    .dataframe tbody tr th {\n",
       "        vertical-align: top;\n",
       "    }\n",
       "\n",
       "    .dataframe thead th {\n",
       "        text-align: right;\n",
       "    }\n",
       "</style>\n",
       "<table border=\"1\" class=\"dataframe\">\n",
       "  <thead>\n",
       "    <tr style=\"text-align: right;\">\n",
       "      <th></th>\n",
       "      <th>type</th>\n",
       "      <th>amount</th>\n",
       "      <th>oldbalanceOrg</th>\n",
       "      <th>nameDest</th>\n",
       "      <th>oldbalanceDest</th>\n",
       "      <th>isFraud</th>\n",
       "      <th>isFlaggedFraud</th>\n",
       "    </tr>\n",
       "  </thead>\n",
       "  <tbody>\n",
       "    <tr>\n",
       "      <th>9381</th>\n",
       "      <td>1</td>\n",
       "      <td>11272.74</td>\n",
       "      <td>52250.00</td>\n",
       "      <td>1</td>\n",
       "      <td>0.00</td>\n",
       "      <td>0</td>\n",
       "      <td>0</td>\n",
       "    </tr>\n",
       "    <tr>\n",
       "      <th>12196</th>\n",
       "      <td>5</td>\n",
       "      <td>226193.35</td>\n",
       "      <td>1331498.39</td>\n",
       "      <td>0</td>\n",
       "      <td>548993.70</td>\n",
       "      <td>0</td>\n",
       "      <td>0</td>\n",
       "    </tr>\n",
       "    <tr>\n",
       "      <th>2799</th>\n",
       "      <td>2</td>\n",
       "      <td>4720554.95</td>\n",
       "      <td>4720554.95</td>\n",
       "      <td>0</td>\n",
       "      <td>0.00</td>\n",
       "      <td>1</td>\n",
       "      <td>0</td>\n",
       "    </tr>\n",
       "    <tr>\n",
       "      <th>6094</th>\n",
       "      <td>3</td>\n",
       "      <td>1688761.08</td>\n",
       "      <td>1688761.08</td>\n",
       "      <td>0</td>\n",
       "      <td>0.00</td>\n",
       "      <td>1</td>\n",
       "      <td>0</td>\n",
       "    </tr>\n",
       "    <tr>\n",
       "      <th>13118</th>\n",
       "      <td>5</td>\n",
       "      <td>455427.69</td>\n",
       "      <td>14409380.62</td>\n",
       "      <td>0</td>\n",
       "      <td>8565657.72</td>\n",
       "      <td>0</td>\n",
       "      <td>0</td>\n",
       "    </tr>\n",
       "  </tbody>\n",
       "</table>\n",
       "</div>"
      ],
      "text/plain": [
       "       type      amount  oldbalanceOrg  nameDest  oldbalanceDest  isFraud  \\\n",
       "9381      1    11272.74       52250.00         1            0.00        0   \n",
       "12196     5   226193.35     1331498.39         0       548993.70        0   \n",
       "2799      2  4720554.95     4720554.95         0            0.00        1   \n",
       "6094      3  1688761.08     1688761.08         0            0.00        1   \n",
       "13118     5   455427.69    14409380.62         0      8565657.72        0   \n",
       "\n",
       "       isFlaggedFraud  \n",
       "9381                0  \n",
       "12196               0  \n",
       "2799                0  \n",
       "6094                0  \n",
       "13118               0  "
      ]
     },
     "execution_count": 7,
     "metadata": {},
     "output_type": "execute_result"
    }
   ],
   "source": [
    "data.head()"
   ]
  },
  {
   "cell_type": "code",
   "execution_count": null,
   "id": "031f1122",
   "metadata": {},
   "outputs": [],
   "source": []
  },
  {
   "cell_type": "code",
   "execution_count": 8,
   "id": "a58f4f26",
   "metadata": {},
   "outputs": [],
   "source": [
    "from sklearn.preprocessing import RobustScaler\n",
    "\n",
    "# Sélectionner les colonnes à normaliser\n",
    "cols_a_normaliser = ['amount', 'oldbalanceOrg', 'oldbalanceDest']\n",
    "\n",
    "# Initialiser le RobustScaler\n",
    "scaler = RobustScaler()\n",
    "\n",
    "# Appliquer fit_transform seulement aux colonnes sélectionnées\n",
    "data[cols_a_normaliser] = scaler.fit_transform(data[cols_a_normaliser])\n"
   ]
  },
  {
   "cell_type": "code",
   "execution_count": 9,
   "id": "a8a31cae",
   "metadata": {},
   "outputs": [],
   "source": [
    "# Enregistrer le DataFrame normalisé dans un fichier CSV\n",
    "data.to_csv('final_cleaned.csv', index=False)\n"
   ]
  },
  {
   "cell_type": "code",
   "execution_count": null,
   "id": "ad25c35c",
   "metadata": {},
   "outputs": [],
   "source": []
  }
 ],
 "metadata": {
  "kernelspec": {
   "display_name": "Python 3 (ipykernel)",
   "language": "python",
   "name": "python3"
  },
  "language_info": {
   "codemirror_mode": {
    "name": "ipython",
    "version": 3
   },
   "file_extension": ".py",
   "mimetype": "text/x-python",
   "name": "python",
   "nbconvert_exporter": "python",
   "pygments_lexer": "ipython3",
   "version": "3.10.9"
  }
 },
 "nbformat": 4,
 "nbformat_minor": 5
}
