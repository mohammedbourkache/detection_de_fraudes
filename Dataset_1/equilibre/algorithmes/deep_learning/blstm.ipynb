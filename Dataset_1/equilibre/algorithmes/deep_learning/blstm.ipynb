{
 "cells": [
  {
   "cell_type": "markdown",
   "id": "a9ca32ac",
   "metadata": {},
   "source": [
    "# BLSTM (Bidirectional Long Short-Term Memory) :"
   ]
  },
  {
   "cell_type": "code",
   "execution_count": 1,
   "id": "d4c123f6",
   "metadata": {},
   "outputs": [
    {
     "name": "stdout",
     "output_type": "stream",
     "text": [
      "Epoch 1/10\n",
      "308/308 [==============================] - 16s 18ms/step - loss: 0.4232 - accuracy: 0.8078 - val_loss: 0.3496 - val_accuracy: 0.8566\n",
      "Epoch 2/10\n",
      "308/308 [==============================] - 4s 13ms/step - loss: 0.2671 - accuracy: 0.8757 - val_loss: 0.2649 - val_accuracy: 0.8694\n",
      "Epoch 3/10\n",
      "308/308 [==============================] - 4s 14ms/step - loss: 0.2388 - accuracy: 0.8789 - val_loss: 0.2458 - val_accuracy: 0.8813\n",
      "Epoch 4/10\n",
      "308/308 [==============================] - 4s 14ms/step - loss: 0.2244 - accuracy: 0.8902 - val_loss: 0.2239 - val_accuracy: 0.8877\n",
      "Epoch 5/10\n",
      "308/308 [==============================] - 4s 13ms/step - loss: 0.2060 - accuracy: 0.9003 - val_loss: 0.2024 - val_accuracy: 0.9047\n",
      "Epoch 6/10\n",
      "308/308 [==============================] - 4s 13ms/step - loss: 0.1894 - accuracy: 0.9092 - val_loss: 0.1781 - val_accuracy: 0.9175\n",
      "Epoch 7/10\n",
      "308/308 [==============================] - 4s 13ms/step - loss: 0.1682 - accuracy: 0.9208 - val_loss: 0.1480 - val_accuracy: 0.9251\n",
      "Epoch 8/10\n",
      "308/308 [==============================] - 4s 13ms/step - loss: 0.1378 - accuracy: 0.9381 - val_loss: 0.1377 - val_accuracy: 0.9336\n",
      "Epoch 9/10\n",
      "308/308 [==============================] - 6s 18ms/step - loss: 0.1249 - accuracy: 0.9441 - val_loss: 0.1283 - val_accuracy: 0.9364\n",
      "Epoch 10/10\n",
      "308/308 [==============================] - 5s 18ms/step - loss: 0.1132 - accuracy: 0.9504 - val_loss: 0.0796 - val_accuracy: 0.9683\n",
      "103/103 [==============================] - 3s 6ms/step\n",
      "Accuracy: 0.9628727936701157\n",
      "Precision: 0.9726609963547995\n",
      "Recall: 0.9541120381406436\n",
      "F1 Score: 0.9632972322503007\n"
     ]
    }
   ],
   "source": [
    "import numpy as np\n",
    "import pandas as pd\n",
    "import tensorflow as tf\n",
    "from sklearn.model_selection import train_test_split\n",
    "from sklearn.metrics import accuracy_score, precision_score, recall_score, f1_score\n",
    "from tensorflow.keras import layers, models\n",
    "\n",
    "# Chargement du dataset\n",
    "df = pd.read_csv('../final_cleaned.csv')\n",
    "\n",
    "# Séparation des features (X) et de la variable cible (y)\n",
    "X = df.drop('isFraud', axis=1)\n",
    "y = df['isFraud']\n",
    "\n",
    "# Division des données en ensembles d'entraînement, de validation et de test\n",
    "X_train, X_temp, y_train, y_temp = train_test_split(X, y, test_size=0.4, random_state=42)\n",
    "X_validation, X_test, y_validation, y_test = train_test_split(X_temp, y_temp, test_size=0.5, random_state=42)\n",
    "\n",
    "# Remodelage des données pour une entrée BLSTM\n",
    "X_train = X_train.values.reshape(-1, X_train.shape[1], 1)  # Remarquez le remodelage ici\n",
    "X_validation = X_validation.values.reshape(-1, X_validation.shape[1], 1)\n",
    "X_test = X_test.values.reshape(-1, X_test.shape[1], 1)\n",
    "\n",
    "# Créez le modèle BLSTM\n",
    "model = models.Sequential()\n",
    "\n",
    "# Couche BLSTM\n",
    "model.add(layers.Bidirectional(layers.LSTM(64, return_sequences=True), input_shape=(X_train.shape[1], 1)))\n",
    "model.add(layers.Bidirectional(layers.LSTM(32)))\n",
    "\n",
    "# Couche fully connected (densément connectée)\n",
    "model.add(layers.Dense(128, activation='relu'))\n",
    "\n",
    "# Couche de sortie\n",
    "model.add(layers.Dense(1, activation='sigmoid'))  # Une seule sortie binaire (fraude ou non)\n",
    "\n",
    "# Compilation du modèle\n",
    "model.compile(optimizer='adam',\n",
    "              loss='binary_crossentropy',  # Binary cross-entropy pour une classification binaire\n",
    "              metrics=['accuracy'])\n",
    "\n",
    "# Entraînez le modèle\n",
    "history = model.fit(X_train, y_train, epochs=10, validation_data=(X_validation, y_validation))\n",
    "\n",
    "# Prédictions sur l'ensemble de test\n",
    "y_pred = model.predict(X_test)\n",
    "y_pred = (y_pred > 0.5)  # Seuil de décision pour les prédictions binaires\n",
    "\n",
    "# Calcul des métriques\n",
    "accuracy = accuracy_score(y_test, y_pred)\n",
    "precision = precision_score(y_test, y_pred)\n",
    "recall = recall_score(y_test, y_pred)\n",
    "f1 = f1_score(y_test, y_pred)\n",
    "\n",
    "print(f\"Accuracy: {accuracy}\")\n",
    "print(f\"Precision: {precision}\")\n",
    "print(f\"Recall: {recall}\")\n",
    "print(f\"F1 Score: {f1}\")\n"
   ]
  },
  {
   "cell_type": "code",
   "execution_count": 2,
   "id": "f9493f30",
   "metadata": {},
   "outputs": [
    {
     "data": {
      "text/html": [
       "<div>\n",
       "<style scoped>\n",
       "    .dataframe tbody tr th:only-of-type {\n",
       "        vertical-align: middle;\n",
       "    }\n",
       "\n",
       "    .dataframe tbody tr th {\n",
       "        vertical-align: top;\n",
       "    }\n",
       "\n",
       "    .dataframe thead th {\n",
       "        text-align: right;\n",
       "    }\n",
       "</style>\n",
       "<table border=\"1\" class=\"dataframe\">\n",
       "  <thead>\n",
       "    <tr style=\"text-align: right;\">\n",
       "      <th></th>\n",
       "      <th>Model</th>\n",
       "      <th>Accuracy</th>\n",
       "      <th>Precision</th>\n",
       "      <th>Recall</th>\n",
       "      <th>F1 Score</th>\n",
       "    </tr>\n",
       "  </thead>\n",
       "  <tbody>\n",
       "    <tr>\n",
       "      <th>0</th>\n",
       "      <td>BLSTM</td>\n",
       "      <td>0.962873</td>\n",
       "      <td>0.972661</td>\n",
       "      <td>0.954112</td>\n",
       "      <td>0.963297</td>\n",
       "    </tr>\n",
       "  </tbody>\n",
       "</table>\n",
       "</div>"
      ],
      "text/plain": [
       "   Model  Accuracy  Precision    Recall  F1 Score\n",
       "0  BLSTM  0.962873   0.972661  0.954112  0.963297"
      ]
     },
     "execution_count": 2,
     "metadata": {},
     "output_type": "execute_result"
    }
   ],
   "source": [
    "from sklearn.metrics import confusion_matrix\n",
    "import matplotlib.pyplot as plt\n",
    "import seaborn as sns\n",
    "\n",
    "\n",
    "# Calcul des métriques\n",
    "acc = accuracy_score(y_test, y_pred)\n",
    "prec = precision_score(y_test, y_pred)\n",
    "rec = recall_score(y_test, y_pred)\n",
    "f1 = f1_score(y_test, y_pred)\n",
    "\n",
    "\n",
    "blstm_results = pd.DataFrame([['BLSTM', acc,prec,rec, f1]],\n",
    "               columns = ['Model', 'Accuracy', 'Precision', 'Recall', 'F1 Score'])\n",
    "\n",
    "# Sauvegardez le DataFrame dans un fichier CSV\n",
    "blstm_results.to_csv('../evaluations/blstm_results.csv', index=False)\n",
    "\n",
    "blstm_results"
   ]
  },
  {
   "cell_type": "code",
   "execution_count": 3,
   "id": "623a4613",
   "metadata": {},
   "outputs": [
    {
     "data": {
      "image/png": "[encoded data removed]",
      "text/plain": [
       "<Figure size 800x600 with 1 Axes>"
      ]
     },
     "metadata": {},
     "output_type": "display_data"
    },
    {
     "name": "stdout",
     "output_type": "stream",
     "text": [
      "Accuracy: 0.9628727936701157\n",
      "Precision: 0.9726609963547995\n",
      "Recall: 0.9541120381406436\n",
      "F1 Score: 0.9632972322503007\n"
     ]
    }
   ],
   "source": [
    "\n",
    "# Affichage de la matrice de confusion\n",
    "confusion = confusion_matrix(y_test, y_pred)\n",
    "plt.figure(figsize=(8, 6))\n",
    "sns.heatmap(confusion, annot=True, fmt='d', cmap='Blues', cbar=False)\n",
    "plt.xlabel('Predicted')\n",
    "plt.ylabel('Actual')\n",
    "plt.title('Confusion Matrix')\n",
    "plt.show()\n",
    "\n"
   ]
  },
  {
   "cell_type": "code",
   "execution_count": null,
   "id": "fb389fa6",
   "metadata": {},
   "outputs": [],
   "source": []
  }
 ],
 "metadata": {
  "kernelspec": {
   "display_name": "Python 3 (ipykernel)",
   "language": "python",
   "name": "python3"
  },
  "language_info": {
   "codemirror_mode": {
    "name": "ipython",
    "version": 3
   },
   "file_extension": ".py",
   "mimetype": "text/x-python",
   "name": "python",
   "nbconvert_exporter": "python",
   "pygments_lexer": "ipython3",
   "version": "3.10.9"
  }
 },
 "nbformat": 4,
 "nbformat_minor": 5
}
