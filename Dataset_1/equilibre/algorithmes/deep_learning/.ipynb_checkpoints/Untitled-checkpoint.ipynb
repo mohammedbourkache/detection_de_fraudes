{
 "cells": [
  {
   "cell_type": "markdown",
   "id": "7ba4551e",
   "metadata": {},
   "source": [
    "# CNN (CONVOLUTIONAL Neural Network) :"
   ]
  },
  {
   "cell_type": "code",
   "execution_count": 2,
   "id": "31f7de1b",
   "metadata": {},
   "outputs": [
    {
     "name": "stdout",
     "output_type": "stream",
     "text": [
      "Epoch 1/10\n",
      "308/308 [==============================] - 3s 5ms/step - loss: 0.3253 - accuracy: 0.8705 - val_loss: 0.1889 - val_accuracy: 0.9132\n",
      "Epoch 2/10\n",
      "308/308 [==============================] - 1s 4ms/step - loss: 0.1639 - accuracy: 0.9337 - val_loss: 0.1495 - val_accuracy: 0.9482\n",
      "Epoch 3/10\n",
      "308/308 [==============================] - 1s 4ms/step - loss: 0.1382 - accuracy: 0.9482 - val_loss: 0.2059 - val_accuracy: 0.9239\n",
      "Epoch 4/10\n",
      "308/308 [==============================] - 1s 4ms/step - loss: 0.1401 - accuracy: 0.9461 - val_loss: 0.1625 - val_accuracy: 0.9330\n",
      "Epoch 5/10\n",
      "308/308 [==============================] - 1s 4ms/step - loss: 0.1148 - accuracy: 0.9564 - val_loss: 0.1000 - val_accuracy: 0.9607\n",
      "Epoch 6/10\n",
      "308/308 [==============================] - 1s 4ms/step - loss: 0.1186 - accuracy: 0.9591 - val_loss: 0.1823 - val_accuracy: 0.9412\n",
      "Epoch 7/10\n",
      "308/308 [==============================] - 1s 5ms/step - loss: 0.1100 - accuracy: 0.9625 - val_loss: 0.0877 - val_accuracy: 0.9699\n",
      "Epoch 8/10\n",
      "308/308 [==============================] - 2s 5ms/step - loss: 0.0938 - accuracy: 0.9655 - val_loss: 0.0787 - val_accuracy: 0.9760\n",
      "Epoch 9/10\n",
      "308/308 [==============================] - 1s 4ms/step - loss: 0.0871 - accuracy: 0.9709 - val_loss: 0.0969 - val_accuracy: 0.9623\n",
      "Epoch 10/10\n",
      "308/308 [==============================] - 1s 4ms/step - loss: 0.0946 - accuracy: 0.9679 - val_loss: 0.0847 - val_accuracy: 0.9723\n",
      "103/103 [==============================] - 0s 2ms/step\n",
      "Accuracy: 0.9686548995739501\n",
      "Precision: 0.9518072289156626\n",
      "Recall: 0.9886769964243146\n",
      "F1 Score: 0.9698918444899152\n"
     ]
    }
   ],
   "source": [
    "import numpy as np\n",
    "import pandas as pd\n",
    "import tensorflow as tf\n",
    "from sklearn.model_selection import train_test_split\n",
    "from sklearn.metrics import accuracy_score, precision_score, recall_score, f1_score\n",
    "from tensorflow.keras import layers, models\n",
    "\n",
    "# Chargement du dataset\n",
    "df = pd.read_csv('../final_cleaned.csv')\n",
    "\n",
    "# Séparation des features (X) et de la variable cible (y)\n",
    "X = df.drop('isFraud', axis=1)\n",
    "y = df['isFraud']\n",
    "\n",
    "# Division des données en ensembles d'entraînement, de validation et de test\n",
    "X_train, X_temp, y_train, y_temp = train_test_split(X, y, test_size=0.4, random_state=42)\n",
    "X_validation, X_test, y_validation, y_test = train_test_split(X_temp, y_temp, test_size=0.5, random_state=42)\n",
    "\n",
    "# Remodelage des données pour une entrée CNN\n",
    "X_train = X_train.values.reshape(-1, X_train.shape[1], 1)  # Remarquez le remodelage ici\n",
    "X_validation = X_validation.values.reshape(-1, X_validation.shape[1], 1)\n",
    "X_test = X_test.values.reshape(-1, X_test.shape[1], 1)\n",
    "\n",
    "# Créez le modèle CNN\n",
    "model = models.Sequential()\n",
    "\n",
    "# Couche de convolution 1\n",
    "model.add(layers.Conv1D(32, 3, activation='relu', input_shape=(X_train.shape[1], 1)))\n",
    "model.add(layers.MaxPooling1D(2))\n",
    "\n",
    "# Couche de convolution 2\n",
    "model.add(layers.Conv1D(64, 2, activation='relu'))\n",
    "model.add(layers.GlobalMaxPooling1D())  # Utilisation de GlobalMaxPooling1D au lieu de MaxPooling1D\n",
    "\n",
    "# Couche fully connected (densément connectée)\n",
    "model.add(layers.Dense(128, activation='relu'))\n",
    "\n",
    "# Couche de sortie\n",
    "model.add(layers.Dense(1, activation='sigmoid'))  # Une seule sortie binaire (fraude ou non)\n",
    "\n",
    "# Compilation du modèle\n",
    "model.compile(optimizer='adam',\n",
    "              loss='binary_crossentropy',  # Binary cross-entropy pour une classification binaire\n",
    "              metrics=['accuracy'])\n",
    "\n",
    "# Entraînez le modèle\n",
    "history = model.fit(X_train, y_train, epochs=10, validation_data=(X_validation, y_validation))\n",
    "\n",
    "# Prédictions sur l'ensemble de test\n",
    "y_pred = model.predict(X_test)\n",
    "y_pred = (y_pred > 0.5)  # Seuil de décision pour les prédictions binaires\n",
    "\n",
    "# Calcul des métriques\n",
    "accuracy = accuracy_score(y_test, y_pred)\n",
    "precision = precision_score(y_test, y_pred)\n",
    "recall = recall_score(y_test, y_pred)\n",
    "f1 = f1_score(y_test, y_pred)\n",
    "\n",
    "print(f\"Accuracy: {accuracy}\")\n",
    "print(f\"Precision: {precision}\")\n",
    "print(f\"Recall: {recall}\")\n",
    "print(f\"F1 Score: {f1}\")\n"
   ]
  },
  {
   "cell_type": "code",
   "execution_count": 3,
   "id": "62118f98",
   "metadata": {},
   "outputs": [
    {
     "data": {
      "text/html": [
       "<div>\n",
       "<style scoped>\n",
       "    .dataframe tbody tr th:only-of-type {\n",
       "        vertical-align: middle;\n",
       "    }\n",
       "\n",
       "    .dataframe tbody tr th {\n",
       "        vertical-align: top;\n",
       "    }\n",
       "\n",
       "    .dataframe thead th {\n",
       "        text-align: right;\n",
       "    }\n",
       "</style>\n",
       "<table border=\"1\" class=\"dataframe\">\n",
       "  <thead>\n",
       "    <tr style=\"text-align: right;\">\n",
       "      <th></th>\n",
       "      <th>Model</th>\n",
       "      <th>Accuracy</th>\n",
       "      <th>Precision</th>\n",
       "      <th>Recall</th>\n",
       "      <th>F1 Score</th>\n",
       "    </tr>\n",
       "  </thead>\n",
       "  <tbody>\n",
       "    <tr>\n",
       "      <th>0</th>\n",
       "      <td>neurual network</td>\n",
       "      <td>0.968655</td>\n",
       "      <td>0.951807</td>\n",
       "      <td>0.988677</td>\n",
       "      <td>0.969892</td>\n",
       "    </tr>\n",
       "  </tbody>\n",
       "</table>\n",
       "</div>"
      ],
      "text/plain": [
       "              Model  Accuracy  Precision    Recall  F1 Score\n",
       "0   neurual network  0.968655   0.951807  0.988677  0.969892"
      ]
     },
     "execution_count": 3,
     "metadata": {},
     "output_type": "execute_result"
    }
   ],
   "source": [
    "\n",
    "# Calcul des métriques\n",
    "acc = accuracy_score(y_test, y_pred)\n",
    "prec = precision_score(y_test, y_pred)\n",
    "rec = recall_score(y_test, y_pred)\n",
    "f1 = f1_score(y_test, y_pred)\n",
    "\n",
    "\n",
    "rnn_results = pd.DataFrame([[' neurual network', acc,prec,rec, f1]],\n",
    "               columns = ['Model', 'Accuracy', 'Precision', 'Recall', 'F1 Score'])\n",
    "\n",
    "# Sauvegardez le DataFrame dans un fichier CSV\n",
    "rnn_results.to_csv('../evaluations/cnn_results.csv', index=False)\n",
    "\n",
    "rnn_results"
   ]
  },
  {
   "cell_type": "code",
   "execution_count": 4,
   "id": "a5c87274",
   "metadata": {},
   "outputs": [
    {
     "ename": "NameError",
     "evalue": "name 'confusion_matrix' is not defined",
     "output_type": "error",
     "traceback": [
      "\u001b[1;31m---------------------------------------------------------------------------\u001b[0m",
      "\u001b[1;31mNameError\u001b[0m                                 Traceback (most recent call last)",
      "Cell \u001b[1;32mIn[4], line 2\u001b[0m\n\u001b[0;32m      1\u001b[0m \u001b[38;5;66;03m# Affichage de la matrice de confusion\u001b[39;00m\n\u001b[1;32m----> 2\u001b[0m confusion \u001b[38;5;241m=\u001b[39m \u001b[43mconfusion_matrix\u001b[49m(y_test, y_pred)\n\u001b[0;32m      3\u001b[0m plt\u001b[38;5;241m.\u001b[39mfigure(figsize\u001b[38;5;241m=\u001b[39m(\u001b[38;5;241m8\u001b[39m, \u001b[38;5;241m6\u001b[39m))\n\u001b[0;32m      4\u001b[0m sns\u001b[38;5;241m.\u001b[39mheatmap(confusion, annot\u001b[38;5;241m=\u001b[39m\u001b[38;5;28;01mTrue\u001b[39;00m, fmt\u001b[38;5;241m=\u001b[39m\u001b[38;5;124m'\u001b[39m\u001b[38;5;124md\u001b[39m\u001b[38;5;124m'\u001b[39m, cmap\u001b[38;5;241m=\u001b[39m\u001b[38;5;124m'\u001b[39m\u001b[38;5;124mBlues\u001b[39m\u001b[38;5;124m'\u001b[39m, cbar\u001b[38;5;241m=\u001b[39m\u001b[38;5;28;01mFalse\u001b[39;00m)\n",
      "\u001b[1;31mNameError\u001b[0m: name 'confusion_matrix' is not defined"
     ]
    }
   ],
   "source": [
    "\n",
    "# Affichage de la matrice de confusion\n",
    "confusion = confusion_matrix(y_test, y_pred)\n",
    "plt.figure(figsize=(8, 6))\n",
    "sns.heatmap(confusion, annot=True, fmt='d', cmap='Blues', cbar=False)\n",
    "plt.xlabel('Predicted')\n",
    "plt.ylabel('Actual')\n",
    "plt.title('Confusion Matrix')\n",
    "plt.show()\n",
    "\n",
    "print(f\"Accuracy: {accuracy}\")\n",
    "print(f\"Precision: {precision}\")\n",
    "print(f\"Recall: {recall}\")\n",
    "print(f\"F1 Score: {f1}\")"
   ]
  },
  {
   "cell_type": "code",
   "execution_count": null,
   "id": "82b5363b",
   "metadata": {},
   "outputs": [],
   "source": []
  }
 ],
 "metadata": {
  "kernelspec": {
   "display_name": "Python 3 (ipykernel)",
   "language": "python",
   "name": "python3"
  },
  "language_info": {
   "codemirror_mode": {
    "name": "ipython",
    "version": 3
   },
   "file_extension": ".py",
   "mimetype": "text/x-python",
   "name": "python",
   "nbconvert_exporter": "python",
   "pygments_lexer": "ipython3",
   "version": "3.10.9"
  }
 },
 "nbformat": 4,
 "nbformat_minor": 5
}
