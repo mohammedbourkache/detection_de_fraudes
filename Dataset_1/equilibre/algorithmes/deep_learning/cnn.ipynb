{
 "cells": [
  {
   "cell_type": "markdown",
   "id": "6e16d4d1",
   "metadata": {},
   "source": [
    "# CNN (CONVOLUTIONAL Neural Network) :"
   ]
  },
  {
   "cell_type": "code",
   "execution_count": 1,
   "id": "d7e77b73",
   "metadata": {},
   "outputs": [
    {
     "name": "stdout",
     "output_type": "stream",
     "text": [
      "Epoch 1/10\n",
      "308/308 [==============================] - 4s 5ms/step - loss: 0.3449 - accuracy: 0.8616 - val_loss: 0.2827 - val_accuracy: 0.8895\n",
      "Epoch 2/10\n",
      "308/308 [==============================] - 1s 4ms/step - loss: 0.1836 - accuracy: 0.9299 - val_loss: 0.3420 - val_accuracy: 0.8883\n",
      "Epoch 3/10\n",
      "308/308 [==============================] - 1s 5ms/step - loss: 0.1724 - accuracy: 0.9385 - val_loss: 0.1362 - val_accuracy: 0.9458\n",
      "Epoch 4/10\n",
      "308/308 [==============================] - 1s 4ms/step - loss: 0.1263 - accuracy: 0.9506 - val_loss: 0.1086 - val_accuracy: 0.9528\n",
      "Epoch 5/10\n",
      "308/308 [==============================] - 1s 3ms/step - loss: 0.1385 - accuracy: 0.9484 - val_loss: 0.1162 - val_accuracy: 0.9516\n",
      "Epoch 6/10\n",
      "308/308 [==============================] - 1s 3ms/step - loss: 0.1084 - accuracy: 0.9598 - val_loss: 0.0943 - val_accuracy: 0.9638\n",
      "Epoch 7/10\n",
      "308/308 [==============================] - 1s 3ms/step - loss: 0.1247 - accuracy: 0.9557 - val_loss: 0.0996 - val_accuracy: 0.9610\n",
      "Epoch 8/10\n",
      "308/308 [==============================] - 1s 3ms/step - loss: 0.1179 - accuracy: 0.9566 - val_loss: 0.0943 - val_accuracy: 0.9595\n",
      "Epoch 9/10\n",
      "308/308 [==============================] - 1s 3ms/step - loss: 0.1287 - accuracy: 0.9609 - val_loss: 0.0898 - val_accuracy: 0.9644\n",
      "Epoch 10/10\n",
      "308/308 [==============================] - 1s 3ms/step - loss: 0.1068 - accuracy: 0.9608 - val_loss: 0.1129 - val_accuracy: 0.9501\n",
      "103/103 [==============================] - 0s 2ms/step\n",
      "Accuracy: 0.9433962264150944\n",
      "Precision: 0.9521212121212121\n",
      "Recall: 0.9362336114421931\n",
      "F1 Score: 0.944110576923077\n"
     ]
    }
   ],
   "source": [
    "import numpy as np\n",
    "import pandas as pd\n",
    "import tensorflow as tf\n",
    "from sklearn.model_selection import train_test_split\n",
    "from sklearn.metrics import accuracy_score, precision_score, recall_score, f1_score\n",
    "from tensorflow.keras import layers, models\n",
    "\n",
    "# Chargement du dataset\n",
    "df = pd.read_csv('../final_cleaned.csv')\n",
    "\n",
    "# Séparation des features (X) et de la variable cible (y)\n",
    "X = df.drop('isFraud', axis=1)\n",
    "y = df['isFraud']\n",
    "\n",
    "# Division des données en ensembles d'entraînement, de validation et de test\n",
    "X_train, X_temp, y_train, y_temp = train_test_split(X, y, test_size=0.4, random_state=42)\n",
    "X_validation, X_test, y_validation, y_test = train_test_split(X_temp, y_temp, test_size=0.5, random_state=42)\n",
    "\n",
    "# Remodelage des données pour une entrée CNN\n",
    "X_train = X_train.values.reshape(-1, X_train.shape[1], 1)  # Remarquez le remodelage ici\n",
    "X_validation = X_validation.values.reshape(-1, X_validation.shape[1], 1)\n",
    "X_test = X_test.values.reshape(-1, X_test.shape[1], 1)\n",
    "\n",
    "# Créez le modèle CNN\n",
    "model = models.Sequential()\n",
    "\n",
    "# Couche de convolution 1\n",
    "model.add(layers.Conv1D(32, 3, activation='relu', input_shape=(X_train.shape[1], 1)))\n",
    "model.add(layers.MaxPooling1D(2))\n",
    "\n",
    "# Couche de convolution 2\n",
    "model.add(layers.Conv1D(64, 2, activation='relu'))\n",
    "model.add(layers.GlobalMaxPooling1D())  # Utilisation de GlobalMaxPooling1D au lieu de MaxPooling1D\n",
    "\n",
    "# Couche fully connected (densément connectée)\n",
    "model.add(layers.Dense(128, activation='relu'))\n",
    "\n",
    "# Couche de sortie\n",
    "model.add(layers.Dense(1, activation='sigmoid'))  # Une seule sortie binaire (fraude ou non)\n",
    "\n",
    "# Compilation du modèle\n",
    "model.compile(optimizer='adam',\n",
    "              loss='binary_crossentropy',  # Binary cross-entropy pour une classification binaire\n",
    "              metrics=['accuracy'])\n",
    "\n",
    "# Entraînez le modèle\n",
    "history = model.fit(X_train, y_train, epochs=10, validation_data=(X_validation, y_validation))\n",
    "\n",
    "# Prédictions sur l'ensemble de test\n",
    "y_pred = model.predict(X_test)\n",
    "y_pred = (y_pred > 0.5)  # Seuil de décision pour les prédictions binaires\n",
    "\n",
    "# Calcul des métriques\n",
    "accuracy = accuracy_score(y_test, y_pred)\n",
    "precision = precision_score(y_test, y_pred)\n",
    "recall = recall_score(y_test, y_pred)\n",
    "f1 = f1_score(y_test, y_pred)\n",
    "\n",
    "print(f\"Accuracy: {accuracy}\")\n",
    "print(f\"Precision: {precision}\")\n",
    "print(f\"Recall: {recall}\")\n",
    "print(f\"F1 Score: {f1}\")\n"
   ]
  },
  {
   "cell_type": "code",
   "execution_count": 2,
   "id": "95f8a352",
   "metadata": {},
   "outputs": [
    {
     "data": {
      "text/html": [
       "<div>\n",
       "<style scoped>\n",
       "    .dataframe tbody tr th:only-of-type {\n",
       "        vertical-align: middle;\n",
       "    }\n",
       "\n",
       "    .dataframe tbody tr th {\n",
       "        vertical-align: top;\n",
       "    }\n",
       "\n",
       "    .dataframe thead th {\n",
       "        text-align: right;\n",
       "    }\n",
       "</style>\n",
       "<table border=\"1\" class=\"dataframe\">\n",
       "  <thead>\n",
       "    <tr style=\"text-align: right;\">\n",
       "      <th></th>\n",
       "      <th>Model</th>\n",
       "      <th>Accuracy</th>\n",
       "      <th>Precision</th>\n",
       "      <th>Recall</th>\n",
       "      <th>F1 Score</th>\n",
       "    </tr>\n",
       "  </thead>\n",
       "  <tbody>\n",
       "    <tr>\n",
       "      <th>0</th>\n",
       "      <td>neurual network</td>\n",
       "      <td>0.943396</td>\n",
       "      <td>0.952121</td>\n",
       "      <td>0.936234</td>\n",
       "      <td>0.944111</td>\n",
       "    </tr>\n",
       "  </tbody>\n",
       "</table>\n",
       "</div>"
      ],
      "text/plain": [
       "              Model  Accuracy  Precision    Recall  F1 Score\n",
       "0   neurual network  0.943396   0.952121  0.936234  0.944111"
      ]
     },
     "execution_count": 2,
     "metadata": {},
     "output_type": "execute_result"
    }
   ],
   "source": [
    "from sklearn.metrics import confusion_matrix\n",
    "import matplotlib.pyplot as plt\n",
    "import seaborn as sns\n",
    "# Calcul des métriques\n",
    "acc = accuracy_score(y_test, y_pred)\n",
    "prec = precision_score(y_test, y_pred)\n",
    "rec = recall_score(y_test, y_pred)\n",
    "f1 = f1_score(y_test, y_pred)\n",
    "\n",
    "\n",
    "rnn_results = pd.DataFrame([[' neurual network', acc,prec,rec, f1]],\n",
    "               columns = ['Model', 'Accuracy', 'Precision', 'Recall', 'F1 Score'])\n",
    "\n",
    "# Sauvegardez le DataFrame dans un fichier CSV\n",
    "rnn_results.to_csv('../evaluations/cnn_results.csv', index=False)\n",
    "\n",
    "rnn_results"
   ]
  },
  {
   "cell_type": "code",
   "execution_count": 3,
   "id": "ee074579",
   "metadata": {},
   "outputs": [
    {
     "data": {
      "image/png": "[encoded data removed]",
      "text/plain": [
       "<Figure size 800x600 with 1 Axes>"
      ]
     },
     "metadata": {},
     "output_type": "display_data"
    }
   ],
   "source": [
    "\n",
    "# Affichage de la matrice de confusion\n",
    "confusion = confusion_matrix(y_test, y_pred)\n",
    "plt.figure(figsize=(8, 6))\n",
    "sns.heatmap(confusion, annot=True, fmt='d', cmap='Blues', cbar=False)\n",
    "plt.xlabel('Predicted')\n",
    "plt.ylabel('Actual')\n",
    "plt.title('Confusion Matrix')\n",
    "plt.show()\n",
    "\n"
   ]
  },
  {
   "cell_type": "code",
   "execution_count": null,
   "id": "7e922330",
   "metadata": {},
   "outputs": [],
   "source": []
  }
 ],
 "metadata": {
  "kernelspec": {
   "display_name": "Python 3 (ipykernel)",
   "language": "python",
   "name": "python3"
  },
  "language_info": {
   "codemirror_mode": {
    "name": "ipython",
    "version": 3
   },
   "file_extension": ".py",
   "mimetype": "text/x-python",
   "name": "python",
   "nbconvert_exporter": "python",
   "pygments_lexer": "ipython3",
   "version": "3.10.9"
  }
 },
 "nbformat": 4,
 "nbformat_minor": 5
}
