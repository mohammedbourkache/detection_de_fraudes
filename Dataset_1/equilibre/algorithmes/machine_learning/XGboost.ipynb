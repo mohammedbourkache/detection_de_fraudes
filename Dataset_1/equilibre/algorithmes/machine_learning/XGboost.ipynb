{
 "cells": [
  {
   "cell_type": "code",
   "execution_count": 1,
   "id": "32998499",
   "metadata": {},
   "outputs": [],
   "source": [
    "# XGBoost"
   ]
  },
  {
   "cell_type": "code",
   "execution_count": 2,
   "id": "49516b7d",
   "metadata": {},
   "outputs": [],
   "source": [
    "import pandas as pd\n",
    "#Dataframe\n",
    "df =pd.read_csv('../final_cleaned.csv')\n"
   ]
  },
  {
   "cell_type": "code",
   "execution_count": 3,
   "id": "6aba42f3",
   "metadata": {},
   "outputs": [],
   "source": [
    "import numpy as np\n",
    "import matplotlib.pyplot as plt\n",
    "import seaborn as sns\n",
    "from sklearn.model_selection import train_test_split\n",
    "\n",
    "# Séparation des features (X) et de la variable cible (y)\n",
    "X = df.drop('isFraud', axis=1)\n",
    "y = df['isFraud']\n",
    "\n",
    "# Division des données en ensembles d'entraînement (80%) et de test (20%)\n",
    "X_train, X_test, y_train, y_test = train_test_split(X, y, test_size=0.2, random_state=42)\n",
    "\n",
    "# Division de l'ensemble d'entraînement en ensembles d'entraînement et de validation (20% parmi 80% pour la validation)\n",
    "X_train, X_validation, y_train, y_validation = train_test_split(X_train, y_train, test_size=0.2, random_state=42)\n",
    "\n"
   ]
  },
  {
   "cell_type": "code",
   "execution_count": null,
   "id": "2d5ee3b9",
   "metadata": {},
   "outputs": [],
   "source": []
  },
  {
   "cell_type": "code",
   "execution_count": 4,
   "id": "dc95eae7",
   "metadata": {},
   "outputs": [],
   "source": [
    "import xgboost as xgb\n",
    "\n",
    "  \n",
    "# Créez un modèle XGBoost et ajustez-le sur l'ensemble d'entraînement\n",
    "xgb_model = xgb.XGBClassifier(random_state=1)\n",
    "xgb_model.fit(X_train, y_train)\n",
    "    \n",
    "# Prédisez sur les ensembles d'entraînement et de validation\n",
    "y_pred_train = xgb_model.predict(X_train)\n",
    "y_pred_validation = xgb_model.predict(X_validation)\n",
    "    "
   ]
  },
  {
   "cell_type": "code",
   "execution_count": 5,
   "id": "e364280b",
   "metadata": {},
   "outputs": [
    {
     "name": "stdout",
     "output_type": "stream",
     "text": [
      "Métriques sur l'ensemble de validation:\n",
      "Accuracy: 0.99\n",
      "Precision: 0.99\n",
      "Recall: 1.00\n",
      "F1-Score: 0.99\n",
      "auc-Score: 0.99\n"
     ]
    }
   ],
   "source": [
    "\n",
    "from sklearn.metrics import accuracy_score, precision_score, recall_score, f1_score, confusion_matrix\n",
    "from sklearn.metrics import roc_auc_score\n",
    "\n",
    "\n",
    "# Calcul des métriques sur l'ensemble de validation\n",
    "accuracy_validation = accuracy_score(y_validation, y_pred_validation)\n",
    "precision_validation = precision_score(y_validation, y_pred_validation)\n",
    "recall_validation = recall_score(y_validation, y_pred_validation)\n",
    "f1_validation = f1_score(y_validation, y_pred_validation)\n",
    "auc_validation = roc_auc_score(y_validation, y_pred_validation)\n",
    "\n",
    "# Affichage des métriques sur l'ensemble de validation\n",
    "print(\"Métriques sur l'ensemble de validation:\")\n",
    "print(f\"Accuracy: {accuracy_validation:.2f}\")\n",
    "print(f\"Precision: {precision_validation:.2f}\")\n",
    "print(f\"Recall: {recall_validation:.2f}\")\n",
    "print(f\"F1-Score: {f1_validation:.2f}\")\n",
    "print(f\"auc-Score: {auc_validation:.2f}\")\n"
   ]
  },
  {
   "cell_type": "code",
   "execution_count": 6,
   "id": "21f269b7",
   "metadata": {},
   "outputs": [
    {
     "data": {
      "text/html": [
       "<div>\n",
       "<style scoped>\n",
       "    .dataframe tbody tr th:only-of-type {\n",
       "        vertical-align: middle;\n",
       "    }\n",
       "\n",
       "    .dataframe tbody tr th {\n",
       "        vertical-align: top;\n",
       "    }\n",
       "\n",
       "    .dataframe thead th {\n",
       "        text-align: right;\n",
       "    }\n",
       "</style>\n",
       "<table border=\"1\" class=\"dataframe\">\n",
       "  <thead>\n",
       "    <tr style=\"text-align: right;\">\n",
       "      <th></th>\n",
       "      <th>Model</th>\n",
       "      <th>Accuracy</th>\n",
       "      <th>Precision</th>\n",
       "      <th>Recall</th>\n",
       "      <th>F1 Score</th>\n",
       "      <th>AUC</th>\n",
       "    </tr>\n",
       "  </thead>\n",
       "  <tbody>\n",
       "    <tr>\n",
       "      <th>0</th>\n",
       "      <td>XGBoost</td>\n",
       "      <td>0.989957</td>\n",
       "      <td>0.982572</td>\n",
       "      <td>0.997559</td>\n",
       "      <td>0.990009</td>\n",
       "      <td>0.989976</td>\n",
       "    </tr>\n",
       "  </tbody>\n",
       "</table>\n",
       "</div>"
      ],
      "text/plain": [
       "     Model  Accuracy  Precision    Recall  F1 Score       AUC\n",
       "0  XGBoost  0.989957   0.982572  0.997559  0.990009  0.989976"
      ]
     },
     "execution_count": 6,
     "metadata": {},
     "output_type": "execute_result"
    }
   ],
   "source": [
    "# Prédiction sur l'ensemble de test\n",
    "\n",
    "y_pred_test = xgb_model.predict(X_test)\n",
    "\n",
    "# Calcul des métriques sur l'ensemble de test\n",
    "\n",
    "acc = accuracy_score(y_test, y_pred_test)\n",
    "prec = precision_score(y_test, y_pred_test)\n",
    "rec = recall_score(y_test, y_pred_test)\n",
    "f1 = f1_score(y_test, y_pred_test)\n",
    "# Calcul de l'AUC\n",
    "auc = roc_auc_score(y_test, y_pred_test)\n",
    "\n",
    "\n",
    "xgb_results = pd.DataFrame([['XGBoost', acc,prec,rec, f1, auc]],\n",
    "               columns = ['Model', 'Accuracy', 'Precision', 'Recall', 'F1 Score', 'AUC'])\n",
    "\n",
    "# Sauvegardez le DataFrame dans un fichier CSV\n",
    "xgb_results.to_csv('../evaluations/xgb_results.csv', index=False)\n",
    "\n",
    "xgb_results\n"
   ]
  },
  {
   "cell_type": "code",
   "execution_count": 7,
   "id": "8394bac3",
   "metadata": {
    "scrolled": false
   },
   "outputs": [
    {
     "data": {
      "image/png": "[encoded data removed]",
      "text/plain": [
       "<Figure size 800x600 with 1 Axes>"
      ]
     },
     "metadata": {},
     "output_type": "display_data"
    }
   ],
   "source": [
    "\n",
    "# Matrice de confusion sur l'ensemble de test\n",
    "conf_matrix = confusion_matrix(y_test, y_pred_test)\n",
    "\n",
    "plt.figure(figsize=(8, 6))\n",
    "sns.heatmap(conf_matrix, annot=True, fmt='d', cmap='Blues', cbar=False, xticklabels=['Non Fraud', 'Fraud'],\n",
    "            yticklabels=['Non Fraud', 'Fraud'])\n",
    "plt.xlabel('Prédiction')\n",
    "plt.ylabel('Vraie Valeur')\n",
    "plt.title('Matrice de Confusion sur l\\'ensemble de test Random forest')\n",
    "plt.show()\n"
   ]
  },
  {
   "cell_type": "code",
   "execution_count": null,
   "id": "339ec758",
   "metadata": {},
   "outputs": [],
   "source": []
  }
 ],
 "metadata": {
  "kernelspec": {
   "display_name": "Python 3 (ipykernel)",
   "language": "python",
   "name": "python3"
  },
  "language_info": {
   "codemirror_mode": {
    "name": "ipython",
    "version": 3
   },
   "file_extension": ".py",
   "mimetype": "text/x-python",
   "name": "python",
   "nbconvert_exporter": "python",
   "pygments_lexer": "ipython3",
   "version": "3.10.9"
  }
 },
 "nbformat": 4,
 "nbformat_minor": 5
}
